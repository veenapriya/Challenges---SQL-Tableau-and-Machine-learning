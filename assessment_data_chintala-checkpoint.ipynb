{
 "cells": [
  {
   "cell_type": "markdown",
   "metadata": {},
   "source": [
    "# Project: Business Analytics Modeling Assessment\n",
    "\n",
    "## Table of Contents\n",
    "<ul>\n",
    "<li><a href=\"#intro\">Introduction</a></li>\n",
    "<li><a href=\"#wrangling\">Data Wrangling</a></li>\n",
    "<li><a href=\"#eda\">Exploratory Data Analysis</a></li>\n",
    "<li><a href=\"#fe\">Feature Engineering</a></li>\n",
    "<li><a href=\"#ms\">Model Selection</a></li>\n",
    "<li><a href=\"#eval\">Evaluation</a></li>\n",
    "<li><a href=\"#pred\">Predicting on new cases</a></li>\n",
    "<li><a href=\"#conclusions\">Conclusions</a></li>\n",
    "</ul>"
   ]
  },
  {
   "cell_type": "markdown",
   "metadata": {},
   "source": [
    "<a id='intro'></a>\n",
    "## Introduction\n",
    "\n",
    "The goal of this assessment is to build a ticket listing and pricing forecast model. The Dataset consists of SeatGeek ticket sales listings and mean ticket listing prices by day. Events at Walt Disney Concert Hall, Dodger Stadium and Chickasaw Bricktown Ballpark are included.\n",
    "\n",
    "Focus in this project would be to explore all the features that influence changes in tickets listed and pricing, and use this information to buid predictive model that can capture all variations in the data."
   ]
  },
  {
   "cell_type": "code",
   "execution_count": 1,
   "metadata": {},
   "outputs": [],
   "source": [
    "# load datasets\n",
    "import pandas as pd\n",
    "import numpy as np\n",
    "import matplotlib.pyplot as plt\n",
    "import matplotlib\n",
    "import seaborn as sns\n",
    "%matplotlib inline\n",
    "from sklearn.model_selection import train_test_split\n",
    "from sklearn.linear_model import LinearRegression\n",
    "from sklearn.metrics import r2_score\n",
    "from sklearn.metrics import mean_squared_error\n",
    "from sklearn.metrics import mean_absolute_error\n",
    "from xgboost import XGBRegressor, plot_importance \n",
    "from collections import OrderedDict\n",
    "import statsmodels.api as sm;\n",
    "from sklearn.preprocessing import StandardScaler\n",
    "from sklearn.preprocessing import LabelEncoder\n",
    "from sklearn.preprocessing import OneHotEncoder\n",
    "from sklearn import preprocessing\n",
    "from sklearn.model_selection import GridSearchCV"
   ]
  },
  {
   "cell_type": "markdown",
   "metadata": {},
   "source": [
    "<a id='wrangling'></a>\n",
    "## Data Wrangling\n",
    "\n",
    "### Load Data"
   ]
  },
  {
   "cell_type": "code",
   "execution_count": 2,
   "metadata": {},
   "outputs": [
    {
     "data": {
      "text/html": [
       "<div>\n",
       "<style scoped>\n",
       "    .dataframe tbody tr th:only-of-type {\n",
       "        vertical-align: middle;\n",
       "    }\n",
       "\n",
       "    .dataframe tbody tr th {\n",
       "        vertical-align: top;\n",
       "    }\n",
       "\n",
       "    .dataframe thead th {\n",
       "        text-align: right;\n",
       "    }\n",
       "</style>\n",
       "<table border=\"1\" class=\"dataframe\">\n",
       "  <thead>\n",
       "    <tr style=\"text-align: right;\">\n",
       "      <th></th>\n",
       "      <th>event_id</th>\n",
       "      <th>listing_date</th>\n",
       "      <th>event_listing_date_id</th>\n",
       "      <th>taxonomy</th>\n",
       "      <th>event_title</th>\n",
       "      <th>event_datetime</th>\n",
       "      <th>tickets_listed</th>\n",
       "      <th>mean_listing_price</th>\n",
       "      <th>performer_1</th>\n",
       "      <th>performer_2</th>\n",
       "      <th>performer_3</th>\n",
       "      <th>performer_4</th>\n",
       "      <th>venue_name</th>\n",
       "    </tr>\n",
       "  </thead>\n",
       "  <tbody>\n",
       "    <tr>\n",
       "      <th>0</th>\n",
       "      <td>3594065</td>\n",
       "      <td>2017-06-01</td>\n",
       "      <td>3594065_17318</td>\n",
       "      <td>MLB Baseball</td>\n",
       "      <td>Arizona Diamondbacks at Los Angeles Dodgers</td>\n",
       "      <td>2017-09-07 02:10:00</td>\n",
       "      <td>8942.0</td>\n",
       "      <td>56.0</td>\n",
       "      <td>Los Angeles Dodgers</td>\n",
       "      <td>Arizona Diamondbacks</td>\n",
       "      <td>NaN</td>\n",
       "      <td>NaN</td>\n",
       "      <td>Dodger Stadium</td>\n",
       "    </tr>\n",
       "    <tr>\n",
       "      <th>1</th>\n",
       "      <td>3594068</td>\n",
       "      <td>2017-06-01</td>\n",
       "      <td>3594068_17318</td>\n",
       "      <td>MLB Baseball</td>\n",
       "      <td>Arizona Diamondbacks at Los Angeles Dodgers</td>\n",
       "      <td>2017-09-06 02:10:00</td>\n",
       "      <td>11642.0</td>\n",
       "      <td>32.0</td>\n",
       "      <td>Los Angeles Dodgers</td>\n",
       "      <td>Arizona Diamondbacks</td>\n",
       "      <td>NaN</td>\n",
       "      <td>NaN</td>\n",
       "      <td>Dodger Stadium</td>\n",
       "    </tr>\n",
       "    <tr>\n",
       "      <th>2</th>\n",
       "      <td>3594070</td>\n",
       "      <td>2017-06-01</td>\n",
       "      <td>3594070_17318</td>\n",
       "      <td>MLB Baseball</td>\n",
       "      <td>Arizona Diamondbacks at Los Angeles Dodgers</td>\n",
       "      <td>2017-09-05 00:10:00</td>\n",
       "      <td>10344.0</td>\n",
       "      <td>49.0</td>\n",
       "      <td>Los Angeles Dodgers</td>\n",
       "      <td>Arizona Diamondbacks</td>\n",
       "      <td>NaN</td>\n",
       "      <td>NaN</td>\n",
       "      <td>Dodger Stadium</td>\n",
       "    </tr>\n",
       "    <tr>\n",
       "      <th>3</th>\n",
       "      <td>3594118</td>\n",
       "      <td>2017-06-01</td>\n",
       "      <td>3594118_17318</td>\n",
       "      <td>MLB Baseball</td>\n",
       "      <td>Arizona Diamondbacks at Los Angeles Dodgers</td>\n",
       "      <td>2017-07-06 02:10:00</td>\n",
       "      <td>13130.0</td>\n",
       "      <td>32.0</td>\n",
       "      <td>Los Angeles Dodgers</td>\n",
       "      <td>Arizona Diamondbacks</td>\n",
       "      <td>NaN</td>\n",
       "      <td>NaN</td>\n",
       "      <td>Dodger Stadium</td>\n",
       "    </tr>\n",
       "    <tr>\n",
       "      <th>4</th>\n",
       "      <td>3594116</td>\n",
       "      <td>2017-06-01</td>\n",
       "      <td>3594116_17318</td>\n",
       "      <td>MLB Baseball</td>\n",
       "      <td>Arizona Diamondbacks at Los Angeles Dodgers</td>\n",
       "      <td>2017-07-07 02:10:00</td>\n",
       "      <td>13102.0</td>\n",
       "      <td>48.0</td>\n",
       "      <td>Los Angeles Dodgers</td>\n",
       "      <td>Arizona Diamondbacks</td>\n",
       "      <td>NaN</td>\n",
       "      <td>NaN</td>\n",
       "      <td>Dodger Stadium</td>\n",
       "    </tr>\n",
       "  </tbody>\n",
       "</table>\n",
       "</div>"
      ],
      "text/plain": [
       "   event_id listing_date event_listing_date_id      taxonomy  \\\n",
       "0   3594065   2017-06-01         3594065_17318  MLB Baseball   \n",
       "1   3594068   2017-06-01         3594068_17318  MLB Baseball   \n",
       "2   3594070   2017-06-01         3594070_17318  MLB Baseball   \n",
       "3   3594118   2017-06-01         3594118_17318  MLB Baseball   \n",
       "4   3594116   2017-06-01         3594116_17318  MLB Baseball   \n",
       "\n",
       "                                   event_title      event_datetime  \\\n",
       "0  Arizona Diamondbacks at Los Angeles Dodgers 2017-09-07 02:10:00   \n",
       "1  Arizona Diamondbacks at Los Angeles Dodgers 2017-09-06 02:10:00   \n",
       "2  Arizona Diamondbacks at Los Angeles Dodgers 2017-09-05 00:10:00   \n",
       "3  Arizona Diamondbacks at Los Angeles Dodgers 2017-07-06 02:10:00   \n",
       "4  Arizona Diamondbacks at Los Angeles Dodgers 2017-07-07 02:10:00   \n",
       "\n",
       "   tickets_listed  mean_listing_price          performer_1  \\\n",
       "0          8942.0                56.0  Los Angeles Dodgers   \n",
       "1         11642.0                32.0  Los Angeles Dodgers   \n",
       "2         10344.0                49.0  Los Angeles Dodgers   \n",
       "3         13130.0                32.0  Los Angeles Dodgers   \n",
       "4         13102.0                48.0  Los Angeles Dodgers   \n",
       "\n",
       "            performer_2 performer_3 performer_4      venue_name  \n",
       "0  Arizona Diamondbacks         NaN         NaN  Dodger Stadium  \n",
       "1  Arizona Diamondbacks         NaN         NaN  Dodger Stadium  \n",
       "2  Arizona Diamondbacks         NaN         NaN  Dodger Stadium  \n",
       "3  Arizona Diamondbacks         NaN         NaN  Dodger Stadium  \n",
       "4  Arizona Diamondbacks         NaN         NaN  Dodger Stadium  "
      ]
     },
     "execution_count": 2,
     "metadata": {},
     "output_type": "execute_result"
    }
   ],
   "source": [
    "# Read Data\n",
    "df = pd.read_table('assessment_data.tsv', sep='\\t', parse_dates =['listing_date','event_datetime'])\n",
    "df.head()"
   ]
  },
  {
   "cell_type": "code",
   "execution_count": 3,
   "metadata": {},
   "outputs": [
    {
     "data": {
      "text/plain": [
       "Los Angeles Philharmonic    4081\n",
       "Los Angeles Dodgers         2742\n",
       "Oklahoma City Dodgers        847\n",
       "New Orleans Baby Cakes       520\n",
       "Round Rock Express           312\n",
       "Memphis Redbirds             186\n",
       "Iowa Cubs                     99\n",
       "Nashville Sounds              90\n",
       "M. Ward                       48\n",
       "Cafe Tacuba                   45\n",
       "John Pizzarelli               10\n",
       "Name: performer_1, dtype: int64"
      ]
     },
     "execution_count": 3,
     "metadata": {},
     "output_type": "execute_result"
    }
   ],
   "source": [
    "df.performer_1.value_counts()"
   ]
  },
  {
   "cell_type": "code",
   "execution_count": 4,
   "metadata": {},
   "outputs": [
    {
     "data": {
      "text/plain": [
       "(8980, 13)"
      ]
     },
     "execution_count": 4,
     "metadata": {},
     "output_type": "execute_result"
    }
   ],
   "source": [
    "#Check the shape of the data\n",
    "df.shape"
   ]
  },
  {
   "cell_type": "markdown",
   "metadata": {},
   "source": [
    "- There are 8980 rows and 13 columns in the Dataset including holdout sample"
   ]
  },
  {
   "cell_type": "code",
   "execution_count": 5,
   "metadata": {},
   "outputs": [
    {
     "data": {
      "text/plain": [
       "event_id                 0.0\n",
       "listing_date             0.0\n",
       "event_listing_date_id    0.0\n",
       "taxonomy                 0.0\n",
       "event_title              0.0\n",
       "event_datetime           0.0\n",
       "tickets_listed           0.0\n",
       "mean_listing_price       0.0\n",
       "performer_1              0.0\n",
       "performer_2              0.0\n",
       "performer_3              0.0\n",
       "performer_4              0.0\n",
       "venue_name               0.0\n",
       "dtype: float64"
      ]
     },
     "execution_count": 5,
     "metadata": {},
     "output_type": "execute_result"
    }
   ],
   "source": [
    "# Seperating data into training and holdout samples.\n",
    "data = df[df['mean_listing_price'].notnull() & df['tickets_listed'].notnull()]\n",
    "holdout = df[df['mean_listing_price'].isnull() & df['tickets_listed'].isnull()]\n",
    "\n",
    "data[data['mean_listing_price'].isnull()].sum()"
   ]
  },
  {
   "cell_type": "markdown",
   "metadata": {},
   "source": [
    "- Seperating the data set into training and holdout samples."
   ]
  },
  {
   "cell_type": "code",
   "execution_count": 6,
   "metadata": {},
   "outputs": [
    {
     "data": {
      "text/plain": [
       "((6334, 13), (2646, 13))"
      ]
     },
     "execution_count": 6,
     "metadata": {},
     "output_type": "execute_result"
    }
   ],
   "source": [
    "data.shape, holdout.shape"
   ]
  },
  {
   "cell_type": "markdown",
   "metadata": {},
   "source": [
    "- Training and test dataset has total 6334 rows and 13 columns \n",
    "- Holdout set has 2646 rows and 13 columns"
   ]
  },
  {
   "cell_type": "code",
   "execution_count": 8,
   "metadata": {
    "scrolled": true
   },
   "outputs": [
    {
     "name": "stdout",
     "output_type": "stream",
     "text": [
      "<class 'pandas.core.frame.DataFrame'>\n",
      "Int64Index: 6334 entries, 0 to 6333\n",
      "Data columns (total 13 columns):\n",
      "event_id                 6334 non-null int64\n",
      "listing_date             6334 non-null datetime64[ns]\n",
      "event_listing_date_id    6334 non-null object\n",
      "taxonomy                 6286 non-null object\n",
      "event_title              6334 non-null object\n",
      "event_datetime           6334 non-null datetime64[ns]\n",
      "tickets_listed           6334 non-null float64\n",
      "mean_listing_price       6334 non-null float64\n",
      "performer_1              6334 non-null object\n",
      "performer_2              4263 non-null object\n",
      "performer_3              76 non-null object\n",
      "performer_4              10 non-null object\n",
      "venue_name               6334 non-null object\n",
      "dtypes: datetime64[ns](2), float64(2), int64(1), object(8)\n",
      "memory usage: 692.8+ KB\n"
     ]
    }
   ],
   "source": [
    "# Check the data tyoes of the features\n",
    "data.info()"
   ]
  },
  {
   "cell_type": "markdown",
   "metadata": {},
   "source": [
    "- Taxonomy, performer_2, performer_3 and performer_4 have missing values. Investigating more on this."
   ]
  },
  {
   "cell_type": "code",
   "execution_count": 9,
   "metadata": {},
   "outputs": [
    {
     "data": {
      "text/plain": [
       "performer_4              0.998421\n",
       "performer_3              0.988001\n",
       "performer_2              0.326966\n",
       "taxonomy                 0.007578\n",
       "venue_name               0.000000\n",
       "performer_1              0.000000\n",
       "mean_listing_price       0.000000\n",
       "tickets_listed           0.000000\n",
       "event_datetime           0.000000\n",
       "event_title              0.000000\n",
       "event_listing_date_id    0.000000\n",
       "listing_date             0.000000\n",
       "event_id                 0.000000\n",
       "dtype: float64"
      ]
     },
     "execution_count": 9,
     "metadata": {},
     "output_type": "execute_result"
    }
   ],
   "source": [
    "# Check for null values in the data\n",
    "(data.isnull().sum() / len(data)).sort_values(ascending=False)[:14]"
   ]
  },
  {
   "cell_type": "markdown",
   "metadata": {},
   "source": [
    "- More than 98% of data is missing from performer_3 and performer_4. 32% from performer_2 and 0.7% from taxonomy."
   ]
  },
  {
   "cell_type": "code",
   "execution_count": 10,
   "metadata": {},
   "outputs": [
    {
     "data": {
      "text/plain": [
       "159"
      ]
     },
     "execution_count": 10,
     "metadata": {},
     "output_type": "execute_result"
    }
   ],
   "source": [
    "# Check for duplicate rows\n",
    "data.event_id.nunique()"
   ]
  },
  {
   "cell_type": "markdown",
   "metadata": {},
   "source": [
    "- 159 unique Events are listed in an ~year."
   ]
  },
  {
   "cell_type": "code",
   "execution_count": 11,
   "metadata": {},
   "outputs": [
    {
     "data": {
      "text/plain": [
       "0"
      ]
     },
     "execution_count": 11,
     "metadata": {},
     "output_type": "execute_result"
    }
   ],
   "source": [
    "# Check for Duplicates\n",
    "data.duplicated().sum()"
   ]
  },
  {
   "cell_type": "markdown",
   "metadata": {},
   "source": [
    "- There are no duplicate values in dataset"
   ]
  },
  {
   "cell_type": "code",
   "execution_count": 12,
   "metadata": {},
   "outputs": [
    {
     "data": {
      "text/plain": [
       "(Timestamp('2017-06-02 02:05:00'), Timestamp('2018-06-03 21:00:00'))"
      ]
     },
     "execution_count": 12,
     "metadata": {},
     "output_type": "execute_result"
    }
   ],
   "source": [
    "# Events date range\n",
    "data['event_datetime'].min(),data['event_datetime'].max()"
   ]
  },
  {
   "cell_type": "markdown",
   "metadata": {},
   "source": [
    "- Information about the events is provided from June 02, 2017 to June 03, 2018"
   ]
  },
  {
   "cell_type": "code",
   "execution_count": 13,
   "metadata": {},
   "outputs": [
    {
     "data": {
      "text/plain": [
       "(Timestamp('2017-06-01 00:00:00'), Timestamp('2017-07-31 00:00:00'))"
      ]
     },
     "execution_count": 13,
     "metadata": {},
     "output_type": "execute_result"
    }
   ],
   "source": [
    "# Check for listing date range\n",
    "data['listing_date'].min(),data['listing_date'].max()"
   ]
  },
  {
   "cell_type": "markdown",
   "metadata": {},
   "source": [
    "- The information about the number of tickets listed is provided from June 01, 2017 to July 31, 2017"
   ]
  },
  {
   "cell_type": "markdown",
   "metadata": {},
   "source": [
    "<a id='eda'></a>\n",
    "## Exploratory Data Analysis\n",
    "\n",
    "### Investigating on what features influence the mean listing price and tickets listed"
   ]
  },
  {
   "cell_type": "code",
   "execution_count": 14,
   "metadata": {},
   "outputs": [
    {
     "data": {
      "image/png": "[encoded data removed]",
      "text/plain": [
       "<Figure size 576x432 with 4 Axes>"
      ]
     },
     "metadata": {
      "needs_background": "light"
     },
     "output_type": "display_data"
    }
   ],
   "source": [
    "# Plot the distribution with a histogram\n",
    "data.hist(figsize=(8,6));"
   ]
  },
  {
   "cell_type": "markdown",
   "metadata": {},
   "source": [
    "- The distribution looks binomial, further investigating on the distribution."
   ]
  },
  {
   "cell_type": "code",
   "execution_count": 15,
   "metadata": {},
   "outputs": [
    {
     "name": "stderr",
     "output_type": "stream",
     "text": [
      "C:\\ProgramData\\Anaconda3\\lib\\site-packages\\scipy\\stats\\stats.py:1713: FutureWarning: Using a non-tuple sequence for multidimensional indexing is deprecated; use `arr[tuple(seq)]` instead of `arr[seq]`. In the future this will be interpreted as an array index, `arr[np.array(seq)]`, which will result either in an error or a different result.\n",
      "  return np.add.reduce(sorted[indexer] * weights, axis=axis) / sumval\n"
     ]
    },
    {
     "data": {
      "image/png": "[encoded data removed]",
      "text/plain": [
       "<Figure size 432x288 with 1 Axes>"
      ]
     },
     "metadata": {
      "needs_background": "light"
     },
     "output_type": "display_data"
    }
   ],
   "source": [
    "sns.distplot(data['mean_listing_price']);\n",
    "plt.title('Frequency Distribution of Mean Listing Price')\n",
    "plt.xlabel('mean_listing_price')\n",
    "plt.ylabel('frequency')\n",
    "plt.show()"
   ]
  },
  {
   "cell_type": "code",
   "execution_count": 16,
   "metadata": {},
   "outputs": [
    {
     "data": {
      "text/plain": [
       "(45.4737034295583, 552.1744854881273, 776.5956716417908)"
      ]
     },
     "execution_count": 16,
     "metadata": {},
     "output_type": "execute_result"
    }
   ],
   "source": [
    "data[data['mean_listing_price']<200]['mean_listing_price'].mean(),data[((data['mean_listing_price']>400) & (data['mean_listing_price']<700))]['mean_listing_price'].mean(),data[data['mean_listing_price']>700]['mean_listing_price'].mean()"
   ]
  },
  {
   "cell_type": "markdown",
   "metadata": {},
   "source": [
    "- Mean Listing Price follows a Bimodel Distribution as it is an outcome two processes with different distributions combined in one set of data.\n",
    "- The Mean listing price for the distribution less than 200 dollars has the mean of 45 dollars.\n",
    "- The Mean listing price for the distribution greater than 200 dollars and less than 700 dollars has the mean of 552 dollars.\n",
    "- The Mean listing price for the distribution less than 200 dollars has the mean of 45 dollars.\n",
    "- The Mean listing price for the distribution greater than 700 dollars has the mean of 777 dollars."
   ]
  },
  {
   "cell_type": "code",
   "execution_count": 17,
   "metadata": {},
   "outputs": [
    {
     "data": {
      "image/png": "[encoded data removed]",
      "text/plain": [
       "<Figure size 432x288 with 1 Axes>"
      ]
     },
     "metadata": {
      "needs_background": "light"
     },
     "output_type": "display_data"
    }
   ],
   "source": [
    "sns.distplot(data['tickets_listed']);\n",
    "plt.title('Frequency Distribution of Tickets Listed')\n",
    "plt.xlabel('tickets_listed')\n",
    "plt.ylabel('frequency')\n",
    "plt.show()"
   ]
  },
  {
   "cell_type": "code",
   "execution_count": 18,
   "metadata": {},
   "outputs": [
    {
     "data": {
      "text/plain": [
       "(48.50108355405731, 9442.742560226736)"
      ]
     },
     "execution_count": 18,
     "metadata": {},
     "output_type": "execute_result"
    }
   ],
   "source": [
    "data[data['tickets_listed']<2500]['tickets_listed'].mean(),data[((data['tickets_listed']>5000) & (data['tickets_listed']<15000))]['tickets_listed'].mean()"
   ]
  },
  {
   "cell_type": "markdown",
   "metadata": {},
   "source": [
    "- Tickets Listed follows a Bimodel Distribution as it is an outcome two processes with different distributions combined in one set of data.\n",
    "- Maximum of 48 tickets are listed on each day for the distribution less than 2500 tickets.\n",
    "- Maximum of 9442 tickets are listed on each day for the distribution greater than 5000 and less than 15000."
   ]
  },
  {
   "cell_type": "code",
   "execution_count": 19,
   "metadata": {},
   "outputs": [
    {
     "data": {
      "image/png": "[encoded data removed]",
      "text/plain": [
       "<Figure size 432x432 with 3 Axes>"
      ]
     },
     "metadata": {
      "needs_background": "light"
     },
     "output_type": "display_data"
    }
   ],
   "source": [
    "sns.jointplot(x='mean_listing_price', y='tickets_listed', data=data, kind ='reg');"
   ]
  },
  {
   "cell_type": "code",
   "execution_count": 20,
   "metadata": {},
   "outputs": [
    {
     "data": {
      "text/plain": [
       "mean_listing_price    1.000000\n",
       "event_id              0.716828\n",
       "tickets_listed       -0.486011\n",
       "Name: mean_listing_price, dtype: float64"
      ]
     },
     "execution_count": 20,
     "metadata": {},
     "output_type": "execute_result"
    }
   ],
   "source": [
    "# Check the correlation between variables\n",
    "corr_matrix = data.corr()\n",
    "corr_matrix[\"mean_listing_price\"].sort_values(ascending=False)"
   ]
  },
  {
   "cell_type": "markdown",
   "metadata": {},
   "source": [
    "- From the graph and the correlation matrix the Mean Listing Price and Tickets Listed looks mostly independent of each other with a weak negative correlation.\n",
    "- Hence, I will analyse both the features independently.\n",
    "- Will be creating two predictive models one to predict Mean Listing Price and the other to predict Tickets Listed"
   ]
  },
  {
   "cell_type": "code",
   "execution_count": 21,
   "metadata": {},
   "outputs": [
    {
     "data": {
      "text/plain": [
       "(Timestamp('2017-06-06 02:10:00'), Timestamp('2017-09-28 02:10:00'))"
      ]
     },
     "execution_count": 21,
     "metadata": {},
     "output_type": "execute_result"
    }
   ],
   "source": [
    "dodgers_listing = data[data['performer_1']=='Los Angeles Dodgers']['event_datetime']\n",
    "dodgers_listing.min(),dodgers_listing.max()"
   ]
  },
  {
   "cell_type": "markdown",
   "metadata": {},
   "source": [
    "- Los Angeles Dodgers have events starting from June 06, 2017 to September 28, 2017"
   ]
  },
  {
   "cell_type": "code",
   "execution_count": 22,
   "metadata": {},
   "outputs": [
    {
     "data": {
      "text/plain": [
       "(Timestamp('2017-06-02 02:05:00'), Timestamp('2018-06-03 21:00:00'))"
      ]
     },
     "execution_count": 22,
     "metadata": {},
     "output_type": "execute_result"
    }
   ],
   "source": [
    "ndodgers_listing = data[data['performer_1']!='Los Angeles Dodgers']['event_datetime']\n",
    "ndodgers_listing.min(),ndodgers_listing.max()"
   ]
  },
  {
   "cell_type": "markdown",
   "metadata": {},
   "source": [
    "- Other events are from June 06, 2017 to June 03, 2018"
   ]
  },
  {
   "cell_type": "markdown",
   "metadata": {},
   "source": [
    "#### Plot performer_3 with null values."
   ]
  },
  {
   "cell_type": "code",
   "execution_count": 23,
   "metadata": {},
   "outputs": [
    {
     "data": {
      "image/png": "[encoded data removed]",
      "text/plain": [
       "<Figure size 360x360 with 1 Axes>"
      ]
     },
     "metadata": {
      "needs_background": "light"
     },
     "output_type": "display_data"
    }
   ],
   "source": [
    "sns.catplot(x=\"performer_3\", y=\"mean_listing_price\", kind=\"box\", data=data);\n",
    "plt.xticks(rotation =90);\n",
    "plt.title('Box plot for Performer_3');"
   ]
  },
  {
   "cell_type": "markdown",
   "metadata": {},
   "source": [
    "#### Performer_3 removing null values"
   ]
  },
  {
   "cell_type": "code",
   "execution_count": 22,
   "metadata": {},
   "outputs": [
    {
     "data": {
      "image/png": "[encoded data removed]",
      "text/plain": [
       "<Figure size 360x360 with 1 Axes>"
      ]
     },
     "metadata": {
      "needs_background": "light"
     },
     "output_type": "display_data"
    }
   ],
   "source": [
    "data = data[data['performer_3'].notnull()]\n",
    "\n",
    "sns.catplot(x=\"performer_3\", y=\"mean_listing_price\", kind=\"box\", data=data);\n",
    "plt.xticks(rotation =90);\n",
    "plt.title('Box plot for Performer_3');"
   ]
  },
  {
   "cell_type": "markdown",
   "metadata": {},
   "source": [
    "- There is no significant difference in the distribution of mean_listing_price removing the nullvalues from performer_3"
   ]
  },
  {
   "cell_type": "markdown",
   "metadata": {},
   "source": [
    "#### Plot performer_3 with null values on tickets listed"
   ]
  },
  {
   "cell_type": "code",
   "execution_count": 24,
   "metadata": {},
   "outputs": [
    {
     "data": {
      "image/png": "[encoded data removed]",
      "text/plain": [
       "<Figure size 360x360 with 1 Axes>"
      ]
     },
     "metadata": {
      "needs_background": "light"
     },
     "output_type": "display_data"
    }
   ],
   "source": [
    "sns.catplot(x=\"performer_3\", y=\"tickets_listed\", kind=\"box\", data=data);\n",
    "plt.xticks(rotation =90);\n",
    "plt.title('Box plot for Performer_3');"
   ]
  },
  {
   "cell_type": "markdown",
   "metadata": {},
   "source": [
    "#### Plot performer_3 without null values on tickets listed"
   ]
  },
  {
   "cell_type": "code",
   "execution_count": 25,
   "metadata": {},
   "outputs": [
    {
     "data": {
      "image/png": "[encoded data removed]",
      "text/plain": [
       "<Figure size 360x360 with 1 Axes>"
      ]
     },
     "metadata": {
      "needs_background": "light"
     },
     "output_type": "display_data"
    }
   ],
   "source": [
    "data = data[data['performer_3'].notnull()]\n",
    "\n",
    "sns.catplot(x=\"performer_3\", y=\"tickets_listed\", kind=\"box\", data=data);\n",
    "plt.xticks(rotation =90);\n",
    "plt.title('Box plot for Performer_3');"
   ]
  },
  {
   "cell_type": "markdown",
   "metadata": {},
   "source": [
    "- There is no significant difference in the distribution of tickets listed removing the nullvalues from performer_3"
   ]
  },
  {
   "cell_type": "markdown",
   "metadata": {},
   "source": [
    "#### Plot performer_4 with null values"
   ]
  },
  {
   "cell_type": "code",
   "execution_count": 26,
   "metadata": {
    "scrolled": false
   },
   "outputs": [
    {
     "data": {
      "image/png": "[encoded data removed]",
      "text/plain": [
       "<Figure size 360x360 with 1 Axes>"
      ]
     },
     "metadata": {
      "needs_background": "light"
     },
     "output_type": "display_data"
    }
   ],
   "source": [
    "sns.catplot(x=\"performer_4\", y=\"mean_listing_price\", kind=\"box\", data=data);\n",
    "plt.xticks(rotation =90);\n",
    "plt.title('Box plot for Performer_4');"
   ]
  },
  {
   "cell_type": "markdown",
   "metadata": {},
   "source": [
    "#### Plot performer_4 without null values"
   ]
  },
  {
   "cell_type": "code",
   "execution_count": 24,
   "metadata": {},
   "outputs": [
    {
     "data": {
      "image/png": "[encoded data removed]",
      "text/plain": [
       "<Figure size 360x360 with 1 Axes>"
      ]
     },
     "metadata": {
      "needs_background": "light"
     },
     "output_type": "display_data"
    }
   ],
   "source": [
    "data = data[data['performer_4'].notnull()]\n",
    "\n",
    "sns.catplot(x=\"performer_4\", y=\"mean_listing_price\", kind=\"box\", data=data);\n",
    "plt.xticks(rotation =90);\n",
    "plt.title('Box plot for Performer_4');"
   ]
  },
  {
   "cell_type": "markdown",
   "metadata": {},
   "source": [
    "- There is no significant difference between the distribution of mean_listing_price after removing null values."
   ]
  },
  {
   "cell_type": "markdown",
   "metadata": {},
   "source": [
    "#### Plot performer_4 with null values"
   ]
  },
  {
   "cell_type": "code",
   "execution_count": 25,
   "metadata": {},
   "outputs": [
    {
     "data": {
      "image/png": "[encoded data removed]",
      "text/plain": [
       "<Figure size 360x360 with 1 Axes>"
      ]
     },
     "metadata": {
      "needs_background": "light"
     },
     "output_type": "display_data"
    }
   ],
   "source": [
    "sns.catplot(x=\"performer_4\", y=\"tickets_listed\", kind=\"box\", data=data);\n",
    "plt.xticks(rotation =90);\n",
    "plt.title('Box plot for Performer_4');"
   ]
  },
  {
   "cell_type": "markdown",
   "metadata": {},
   "source": [
    "#### Plot performer_4 without null values"
   ]
  },
  {
   "cell_type": "code",
   "execution_count": 29,
   "metadata": {},
   "outputs": [
    {
     "data": {
      "image/png": "[encoded data removed]",
      "text/plain": [
       "<Figure size 360x360 with 1 Axes>"
      ]
     },
     "metadata": {
      "needs_background": "light"
     },
     "output_type": "display_data"
    }
   ],
   "source": [
    "data = data[data['performer_4'].notnull()]\n",
    "\n",
    "sns.catplot(x=\"performer_4\", y=\"tickets_listed\", kind=\"box\", data=data);\n",
    "plt.xticks(rotation =90);\n",
    "plt.title('Box plot for Performer_4');"
   ]
  },
  {
   "cell_type": "markdown",
   "metadata": {},
   "source": [
    "- There is no significant difference between the distribution of tickets_listed after removing null values."
   ]
  },
  {
   "cell_type": "code",
   "execution_count": 26,
   "metadata": {},
   "outputs": [
    {
     "data": {
      "image/png": "[encoded data removed]",
      "text/plain": [
       "<Figure size 1440x432 with 1 Axes>"
      ]
     },
     "metadata": {
      "needs_background": "light"
     },
     "output_type": "display_data"
    },
    {
     "data": {
      "image/png": "[encoded data removed]",
      "text/plain": [
       "<Figure size 1440x432 with 1 Axes>"
      ]
     },
     "metadata": {
      "needs_background": "light"
     },
     "output_type": "display_data"
    }
   ],
   "source": [
    "data = df[df['mean_listing_price'].notnull() & df['tickets_listed'].notnull()]\n",
    "\n",
    "la=data[data['performer_1']=='Los Angeles Dodgers'].groupby(['event_id','listing_date']).agg({'tickets_listed':'sum'})\n",
    "nla = data[data['performer_1']!='Los Angeles Dodgers'].groupby(['event_id','listing_date']).agg({'tickets_listed':'sum'})\n",
    "\n",
    "x=np.linspace(0,20,2194)\n",
    "plt.figure(figsize= (20,6))\n",
    "plt.subplot(2,2,1)\n",
    "plt.title('Total number of tickets listed eachday for Los Angeles Dodgers')\n",
    "plt.xlabel('For every event per day')\n",
    "plt.ylabel('Total tickets')\n",
    "plt.plot(x,la,'b--',linewidth=2.0);\n",
    "\n",
    "\n",
    "x=np.linspace(0,20,4140)\n",
    "plt.figure(figsize= (20,6))\n",
    "plt.subplot(2,2,2)\n",
    "plt.title('Total number of tickets listed eachday for all other events.')\n",
    "plt.xlabel('For every event per day')\n",
    "plt.ylabel('Total tickets')\n",
    "plt.plot(x,nla,'g--',linewidth=2.0);\n"
   ]
  },
  {
   "cell_type": "markdown",
   "metadata": {},
   "source": [
    "- Total number of tickets listed eachday for Los Angeles Dodgers ranges from 2000 to 14000.\n",
    "- Total number of tickets listed eachday for other events other than Los Angeles Dodgers ranges from 3 to 120."
   ]
  },
  {
   "cell_type": "code",
   "execution_count": 27,
   "metadata": {},
   "outputs": [
    {
     "data": {
      "image/png": "[encoded data removed]",
      "text/plain": [
       "<Figure size 1440x432 with 1 Axes>"
      ]
     },
     "metadata": {
      "needs_background": "light"
     },
     "output_type": "display_data"
    },
    {
     "data": {
      "image/png": "[encoded data removed]",
      "text/plain": [
       "<Figure size 1440x432 with 1 Axes>"
      ]
     },
     "metadata": {
      "needs_background": "light"
     },
     "output_type": "display_data"
    }
   ],
   "source": [
    "la=data[data['performer_1']=='Los Angeles Dodgers'].groupby(['event_id','listing_date']).agg({'mean_listing_price':'max'})\n",
    "nla = data[data['performer_1']!='Los Angeles Dodgers'].groupby(['event_id','listing_date']).agg({'mean_listing_price':'max'})\n",
    "\n",
    "x=np.linspace(0,20,2194)\n",
    "plt.figure(figsize= (20,6))\n",
    "plt.subplot(2,2,1)\n",
    "plt.title('Mean listing price eachday for Los Angeles Dodgers')\n",
    "plt.xlabel('For every event per day')\n",
    "plt.ylabel('Total tickets')\n",
    "plt.plot(x,la,'b--',linewidth=2.0);\n",
    "\n",
    "x=np.linspace(0,20,4140)\n",
    "plt.figure(figsize= (20,6))\n",
    "plt.subplot(2,2,2)\n",
    "plt.title('Mean listing price eachday for all other events.')\n",
    "plt.xlabel('For every event per day')\n",
    "plt.ylabel('Total tickets')\n",
    "plt.plot(x,nla,'g--',linewidth=2.0);\n"
   ]
  },
  {
   "cell_type": "markdown",
   "metadata": {},
   "source": [
    "- Mean listing price for LA Dodgers ranges from 3 to 125 dollars\n",
    "- Mean listing price for all other events ranges from 3 to 800 dollars"
   ]
  },
  {
   "cell_type": "markdown",
   "metadata": {},
   "source": [
    "<a id='fe'></a>\n",
    "## Feature Engineering"
   ]
  },
  {
   "cell_type": "code",
   "execution_count": 28,
   "metadata": {},
   "outputs": [
    {
     "name": "stderr",
     "output_type": "stream",
     "text": [
      "C:\\ProgramData\\Anaconda3\\lib\\site-packages\\ipykernel_launcher.py:3: SettingWithCopyWarning: \n",
      "A value is trying to be set on a copy of a slice from a DataFrame.\n",
      "Try using .loc[row_indexer,col_indexer] = value instead\n",
      "\n",
      "See the caveats in the documentation: http://pandas.pydata.org/pandas-docs/stable/indexing.html#indexing-view-versus-copy\n",
      "  This is separate from the ipykernel package so we can avoid doing imports until\n"
     ]
    },
    {
     "data": {
      "text/html": [
       "<div>\n",
       "<style scoped>\n",
       "    .dataframe tbody tr th:only-of-type {\n",
       "        vertical-align: middle;\n",
       "    }\n",
       "\n",
       "    .dataframe tbody tr th {\n",
       "        vertical-align: top;\n",
       "    }\n",
       "\n",
       "    .dataframe thead th {\n",
       "        text-align: right;\n",
       "    }\n",
       "</style>\n",
       "<table border=\"1\" class=\"dataframe\">\n",
       "  <thead>\n",
       "    <tr style=\"text-align: right;\">\n",
       "      <th></th>\n",
       "      <th>event_id</th>\n",
       "      <th>listing_date</th>\n",
       "      <th>event_listing_date_id</th>\n",
       "      <th>taxonomy</th>\n",
       "      <th>event_title</th>\n",
       "      <th>event_datetime</th>\n",
       "      <th>tickets_listed</th>\n",
       "      <th>mean_listing_price</th>\n",
       "      <th>performer_1</th>\n",
       "      <th>performer_2</th>\n",
       "      <th>performer_3</th>\n",
       "      <th>performer_4</th>\n",
       "      <th>venue_name</th>\n",
       "      <th>event_min</th>\n",
       "    </tr>\n",
       "  </thead>\n",
       "  <tbody>\n",
       "    <tr>\n",
       "      <th>0</th>\n",
       "      <td>3594065</td>\n",
       "      <td>2017-06-01</td>\n",
       "      <td>3594065_17318</td>\n",
       "      <td>MLB Baseball</td>\n",
       "      <td>Arizona Diamondbacks at Los Angeles Dodgers</td>\n",
       "      <td>2017-09-07 02:10:00</td>\n",
       "      <td>8942.0</td>\n",
       "      <td>56.0</td>\n",
       "      <td>Los Angeles Dodgers</td>\n",
       "      <td>Arizona Diamondbacks</td>\n",
       "      <td>NaN</td>\n",
       "      <td>NaN</td>\n",
       "      <td>Dodger Stadium</td>\n",
       "      <td>130</td>\n",
       "    </tr>\n",
       "  </tbody>\n",
       "</table>\n",
       "</div>"
      ],
      "text/plain": [
       "   event_id listing_date event_listing_date_id      taxonomy  \\\n",
       "0   3594065   2017-06-01         3594065_17318  MLB Baseball   \n",
       "\n",
       "                                   event_title      event_datetime  \\\n",
       "0  Arizona Diamondbacks at Los Angeles Dodgers 2017-09-07 02:10:00   \n",
       "\n",
       "   tickets_listed  mean_listing_price          performer_1  \\\n",
       "0          8942.0                56.0  Los Angeles Dodgers   \n",
       "\n",
       "            performer_2 performer_3 performer_4      venue_name  event_min  \n",
       "0  Arizona Diamondbacks         NaN         NaN  Dodger Stadium        130  "
      ]
     },
     "execution_count": 28,
     "metadata": {},
     "output_type": "execute_result"
    }
   ],
   "source": [
    "# Calculate event time in minutes\n",
    "time = pd.DatetimeIndex(data['event_datetime']);\n",
    "data['event_min']=time.hour * 60 + time.minute\n",
    "data.head(1)"
   ]
  },
  {
   "cell_type": "code",
   "execution_count": 29,
   "metadata": {},
   "outputs": [
    {
     "data": {
      "image/png": "[encoded data removed]",
      "text/plain": [
       "<Figure size 432x288 with 1 Axes>"
      ]
     },
     "metadata": {
      "needs_background": "light"
     },
     "output_type": "display_data"
    }
   ],
   "source": [
    "# plot event time\n",
    "data[data['performer_1']=='Los Angeles Dodgers']['event_min'].plot(kind = 'hist');\n",
    "plt.xlabel('Event time in minutes')\n",
    "plt.ylabel('Frequency')\n",
    "plt.title('Frequency distribution of event time in min for Los Angeles Dodgers')\n",
    "plt.show()"
   ]
  },
  {
   "cell_type": "markdown",
   "metadata": {},
   "source": [
    "- The Los Angeles Dodgers game is played approximately for 1 hour or 20 hours "
   ]
  },
  {
   "cell_type": "code",
   "execution_count": 30,
   "metadata": {},
   "outputs": [
    {
     "data": {
      "image/png": "[encoded data removed]",
      "text/plain": [
       "<Figure size 432x288 with 1 Axes>"
      ]
     },
     "metadata": {
      "needs_background": "light"
     },
     "output_type": "display_data"
    }
   ],
   "source": [
    "# plot event time\n",
    "data[data['performer_1']!='Los Angeles Dodgers']['event_min'].plot(kind = 'hist');\n",
    "plt.xlabel('Event time in minutes')\n",
    "plt.ylabel('Frequency')\n",
    "plt.title('Frequency distribution of other event in min')\n",
    "plt.show()"
   ]
  },
  {
   "cell_type": "markdown",
   "metadata": {},
   "source": [
    "- All other events are for either 1 hour 30 minutes or for approximately 20 hours."
   ]
  },
  {
   "cell_type": "code",
   "execution_count": 31,
   "metadata": {},
   "outputs": [
    {
     "name": "stderr",
     "output_type": "stream",
     "text": [
      "C:\\ProgramData\\Anaconda3\\lib\\site-packages\\ipykernel_launcher.py:12: SettingWithCopyWarning: \n",
      "A value is trying to be set on a copy of a slice from a DataFrame.\n",
      "Try using .loc[row_indexer,col_indexer] = value instead\n",
      "\n",
      "See the caveats in the documentation: http://pandas.pydata.org/pandas-docs/stable/indexing.html#indexing-view-versus-copy\n",
      "  if sys.path[0] == '':\n"
     ]
    },
    {
     "data": {
      "text/html": [
       "<div>\n",
       "<style scoped>\n",
       "    .dataframe tbody tr th:only-of-type {\n",
       "        vertical-align: middle;\n",
       "    }\n",
       "\n",
       "    .dataframe tbody tr th {\n",
       "        vertical-align: top;\n",
       "    }\n",
       "\n",
       "    .dataframe thead th {\n",
       "        text-align: right;\n",
       "    }\n",
       "</style>\n",
       "<table border=\"1\" class=\"dataframe\">\n",
       "  <thead>\n",
       "    <tr style=\"text-align: right;\">\n",
       "      <th></th>\n",
       "      <th>event_id</th>\n",
       "      <th>listing_date</th>\n",
       "      <th>event_listing_date_id</th>\n",
       "      <th>taxonomy</th>\n",
       "      <th>event_title</th>\n",
       "      <th>event_datetime</th>\n",
       "      <th>tickets_listed</th>\n",
       "      <th>mean_listing_price</th>\n",
       "      <th>performer_1</th>\n",
       "      <th>performer_2</th>\n",
       "      <th>performer_3</th>\n",
       "      <th>performer_4</th>\n",
       "      <th>venue_name</th>\n",
       "      <th>event_min</th>\n",
       "      <th>performer</th>\n",
       "    </tr>\n",
       "  </thead>\n",
       "  <tbody>\n",
       "    <tr>\n",
       "      <th>0</th>\n",
       "      <td>3594065</td>\n",
       "      <td>2017-06-01</td>\n",
       "      <td>3594065_17318</td>\n",
       "      <td>MLB Baseball</td>\n",
       "      <td>Arizona Diamondbacks at Los Angeles Dodgers</td>\n",
       "      <td>2017-09-07 02:10:00</td>\n",
       "      <td>8942.0</td>\n",
       "      <td>56.0</td>\n",
       "      <td>Los Angeles Dodgers</td>\n",
       "      <td>Arizona Diamondbacks</td>\n",
       "      <td>NaN</td>\n",
       "      <td>NaN</td>\n",
       "      <td>Dodger Stadium</td>\n",
       "      <td>130</td>\n",
       "      <td>2</td>\n",
       "    </tr>\n",
       "  </tbody>\n",
       "</table>\n",
       "</div>"
      ],
      "text/plain": [
       "   event_id listing_date event_listing_date_id      taxonomy  \\\n",
       "0   3594065   2017-06-01         3594065_17318  MLB Baseball   \n",
       "\n",
       "                                   event_title      event_datetime  \\\n",
       "0  Arizona Diamondbacks at Los Angeles Dodgers 2017-09-07 02:10:00   \n",
       "\n",
       "   tickets_listed  mean_listing_price          performer_1  \\\n",
       "0          8942.0                56.0  Los Angeles Dodgers   \n",
       "\n",
       "            performer_2 performer_3 performer_4      venue_name  event_min  \\\n",
       "0  Arizona Diamondbacks         NaN         NaN  Dodger Stadium        130   \n",
       "\n",
       "   performer  \n",
       "0          2  "
      ]
     },
     "execution_count": 31,
     "metadata": {},
     "output_type": "execute_result"
    }
   ],
   "source": [
    "# Including total performers per day.\n",
    "for index, row in data.iterrows():\n",
    "    performr =0\n",
    "    if row.notnull()['performer_1']:\n",
    "        performr = 1\n",
    "    if row.notnull()['performer_2']:\n",
    "        performr+=1\n",
    "    if row.notnull()['performer_3']:\n",
    "        performr+=1\n",
    "    if row.notnull()['performer_4']:\n",
    "        performr+=1\n",
    "    data['performer']=performr     \n",
    "data.head(1)"
   ]
  },
  {
   "cell_type": "markdown",
   "metadata": {},
   "source": [
    "- Adding a column Performers, this column captures the information about total number of performers for that day"
   ]
  },
  {
   "cell_type": "markdown",
   "metadata": {},
   "source": [
    "### Data Cleaning"
   ]
  },
  {
   "cell_type": "code",
   "execution_count": 32,
   "metadata": {},
   "outputs": [
    {
     "data": {
      "text/plain": [
       "Text(0, 0.5, 'Max of mean_listing_price')"
      ]
     },
     "execution_count": 32,
     "metadata": {},
     "output_type": "execute_result"
    },
    {
     "data": {
      "image/png": "[encoded data removed]",
      "text/plain": [
       "<Figure size 576x288 with 1 Axes>"
      ]
     },
     "metadata": {
      "needs_background": "light"
     },
     "output_type": "display_data"
    }
   ],
   "source": [
    "# plot mean_listing_price for performer_2\n",
    "data.groupby(['event_id','performer_2']).agg({'mean_listing_price':'max'}).plot(figsize=(8,4));\n",
    "plt.title('Distribution of mean_listing_price for performer_2 ');\n",
    "plt.ylabel('Max of mean_listing_price')"
   ]
  },
  {
   "cell_type": "markdown",
   "metadata": {},
   "source": [
    "- Checking the distribution mean_listing_price after removing null values from performer_2."
   ]
  },
  {
   "cell_type": "code",
   "execution_count": 33,
   "metadata": {},
   "outputs": [
    {
     "data": {
      "text/plain": [
       "Text(0, 0.5, 'Max of mean_listing_price')"
      ]
     },
     "execution_count": 33,
     "metadata": {},
     "output_type": "execute_result"
    },
    {
     "data": {
      "image/png": "[encoded data removed]",
      "text/plain": [
       "<Figure size 576x288 with 1 Axes>"
      ]
     },
     "metadata": {
      "needs_background": "light"
     },
     "output_type": "display_data"
    }
   ],
   "source": [
    "# removing null values from performer_2\n",
    "data = data[data['performer_2'].notnull()]\n",
    "\n",
    "# plot mean_listing_price for performer_2\n",
    "data.groupby(['event_id','performer_2']).agg({'mean_listing_price':'max'}).plot(figsize=(8,4));\n",
    "plt.title('Distribution of mean_listing_price for performer_2 ');\n",
    "plt.ylabel('Max of mean_listing_price')"
   ]
  },
  {
   "cell_type": "markdown",
   "metadata": {},
   "source": [
    "- There is no change in the distribution hence removing null values from performer_2"
   ]
  },
  {
   "cell_type": "code",
   "execution_count": 34,
   "metadata": {},
   "outputs": [],
   "source": [
    "# deleting null rows from taxonomy\n",
    "data = data[data['taxonomy'].notnull()]"
   ]
  },
  {
   "cell_type": "markdown",
   "metadata": {},
   "source": [
    "- Removing null values from taxonomy"
   ]
  },
  {
   "cell_type": "code",
   "execution_count": 35,
   "metadata": {},
   "outputs": [
    {
     "data": {
      "text/html": [
       "<div>\n",
       "<style scoped>\n",
       "    .dataframe tbody tr th:only-of-type {\n",
       "        vertical-align: middle;\n",
       "    }\n",
       "\n",
       "    .dataframe tbody tr th {\n",
       "        vertical-align: top;\n",
       "    }\n",
       "\n",
       "    .dataframe thead th {\n",
       "        text-align: right;\n",
       "    }\n",
       "</style>\n",
       "<table border=\"1\" class=\"dataframe\">\n",
       "  <thead>\n",
       "    <tr style=\"text-align: right;\">\n",
       "      <th></th>\n",
       "      <th>event_id</th>\n",
       "      <th>listing_date</th>\n",
       "      <th>event_listing_date_id</th>\n",
       "      <th>taxonomy</th>\n",
       "      <th>event_title</th>\n",
       "      <th>event_datetime</th>\n",
       "      <th>tickets_listed</th>\n",
       "      <th>mean_listing_price</th>\n",
       "      <th>performer_1</th>\n",
       "      <th>performer_2</th>\n",
       "      <th>performer_3</th>\n",
       "      <th>performer_4</th>\n",
       "      <th>venue_name</th>\n",
       "      <th>event_min</th>\n",
       "      <th>performer</th>\n",
       "      <th>listing_week</th>\n",
       "      <th>event_week</th>\n",
       "    </tr>\n",
       "  </thead>\n",
       "  <tbody>\n",
       "    <tr>\n",
       "      <th>0</th>\n",
       "      <td>3594065</td>\n",
       "      <td>2017-06-01</td>\n",
       "      <td>3594065_17318</td>\n",
       "      <td>MLB Baseball</td>\n",
       "      <td>Arizona Diamondbacks at Los Angeles Dodgers</td>\n",
       "      <td>2017-09-07 02:10:00</td>\n",
       "      <td>8942.0</td>\n",
       "      <td>56.0</td>\n",
       "      <td>Los Angeles Dodgers</td>\n",
       "      <td>Arizona Diamondbacks</td>\n",
       "      <td>NaN</td>\n",
       "      <td>NaN</td>\n",
       "      <td>Dodger Stadium</td>\n",
       "      <td>130</td>\n",
       "      <td>2</td>\n",
       "      <td>22</td>\n",
       "      <td>36</td>\n",
       "    </tr>\n",
       "  </tbody>\n",
       "</table>\n",
       "</div>"
      ],
      "text/plain": [
       "   event_id listing_date event_listing_date_id      taxonomy  \\\n",
       "0   3594065   2017-06-01         3594065_17318  MLB Baseball   \n",
       "\n",
       "                                   event_title      event_datetime  \\\n",
       "0  Arizona Diamondbacks at Los Angeles Dodgers 2017-09-07 02:10:00   \n",
       "\n",
       "   tickets_listed  mean_listing_price          performer_1  \\\n",
       "0          8942.0                56.0  Los Angeles Dodgers   \n",
       "\n",
       "            performer_2 performer_3 performer_4      venue_name  event_min  \\\n",
       "0  Arizona Diamondbacks         NaN         NaN  Dodger Stadium        130   \n",
       "\n",
       "   performer  listing_week  event_week  \n",
       "0          2            22          36  "
      ]
     },
     "execution_count": 35,
     "metadata": {},
     "output_type": "execute_result"
    }
   ],
   "source": [
    "# Adding week of the year for listing_week and event_week\n",
    "data['listing_week'] = data['listing_date'].dt.week\n",
    "data['event_week'] = data['event_datetime'].dt.week\n",
    "data.head(1)"
   ]
  },
  {
   "cell_type": "markdown",
   "metadata": {},
   "source": [
    "- Adding 2 columns listing_week and event_week which stores the week of the year information of listing_date and event_datetime.\n",
    "- Using these two columns in the models allows us to capture the variations from the dates."
   ]
  },
  {
   "cell_type": "code",
   "execution_count": 36,
   "metadata": {},
   "outputs": [
    {
     "data": {
      "text/plain": [
       "(4215, 17)"
      ]
     },
     "execution_count": 36,
     "metadata": {},
     "output_type": "execute_result"
    }
   ],
   "source": [
    "data.shape"
   ]
  },
  {
   "cell_type": "markdown",
   "metadata": {},
   "source": [
    "- After data cleaning, the dataset has 4215 rows and 15 columns."
   ]
  },
  {
   "cell_type": "code",
   "execution_count": 37,
   "metadata": {},
   "outputs": [
    {
     "data": {
      "text/plain": [
       "event_id                    0\n",
       "listing_date                0\n",
       "event_listing_date_id       0\n",
       "taxonomy                    0\n",
       "event_title                 0\n",
       "event_datetime              0\n",
       "tickets_listed              0\n",
       "mean_listing_price          0\n",
       "performer_1                 0\n",
       "performer_2                 0\n",
       "performer_3              4187\n",
       "performer_4              4205\n",
       "venue_name                  0\n",
       "event_min                   0\n",
       "performer                   0\n",
       "listing_week                0\n",
       "event_week                  0\n",
       "dtype: int64"
      ]
     },
     "execution_count": 37,
     "metadata": {},
     "output_type": "execute_result"
    }
   ],
   "source": [
    "data.isnull().sum()"
   ]
  },
  {
   "cell_type": "markdown",
   "metadata": {},
   "source": [
    "- There are no null values in the data"
   ]
  },
  {
   "cell_type": "markdown",
   "metadata": {},
   "source": [
    "<a id='ms'></a>\n",
    "## Model Selection\n",
    "\n",
    "### Preparing data for predicting mean_listing_price"
   ]
  },
  {
   "cell_type": "code",
   "execution_count": 38,
   "metadata": {},
   "outputs": [
    {
     "data": {
      "text/html": [
       "<div>\n",
       "<style scoped>\n",
       "    .dataframe tbody tr th:only-of-type {\n",
       "        vertical-align: middle;\n",
       "    }\n",
       "\n",
       "    .dataframe tbody tr th {\n",
       "        vertical-align: top;\n",
       "    }\n",
       "\n",
       "    .dataframe thead th {\n",
       "        text-align: right;\n",
       "    }\n",
       "</style>\n",
       "<table border=\"1\" class=\"dataframe\">\n",
       "  <thead>\n",
       "    <tr style=\"text-align: right;\">\n",
       "      <th></th>\n",
       "      <th>event_min</th>\n",
       "      <th>performer</th>\n",
       "      <th>listing_week</th>\n",
       "      <th>event_week</th>\n",
       "      <th>taxonomy_Classical Orchestral</th>\n",
       "      <th>taxonomy_MLB Baseball</th>\n",
       "      <th>taxonomy_Minor League Baseball</th>\n",
       "      <th>performer_1_Iowa Cubs</th>\n",
       "      <th>performer_1_John Pizzarelli</th>\n",
       "      <th>performer_1_Los Angeles Dodgers</th>\n",
       "      <th>...</th>\n",
       "      <th>performer_2_San Francisco Giants</th>\n",
       "      <th>performer_2_Tacoma Rainiers</th>\n",
       "      <th>performer_2_Washington Nationals</th>\n",
       "      <th>performer_3_Chicago Symphony Orchestra</th>\n",
       "      <th>performer_3_Gustavo Dudamel</th>\n",
       "      <th>performer_3_Los Angeles Angels</th>\n",
       "      <th>performer_4_Yuja Wang</th>\n",
       "      <th>venue_name_Chickasaw Bricktown Ballpark</th>\n",
       "      <th>venue_name_Dodger Stadium</th>\n",
       "      <th>venue_name_Walt Disney Concert Hall</th>\n",
       "    </tr>\n",
       "  </thead>\n",
       "  <tbody>\n",
       "    <tr>\n",
       "      <th>6329</th>\n",
       "      <td>130</td>\n",
       "      <td>2</td>\n",
       "      <td>31</td>\n",
       "      <td>38</td>\n",
       "      <td>0</td>\n",
       "      <td>1</td>\n",
       "      <td>0</td>\n",
       "      <td>0</td>\n",
       "      <td>0</td>\n",
       "      <td>1</td>\n",
       "      <td>...</td>\n",
       "      <td>1</td>\n",
       "      <td>0</td>\n",
       "      <td>0</td>\n",
       "      <td>0</td>\n",
       "      <td>0</td>\n",
       "      <td>0</td>\n",
       "      <td>0</td>\n",
       "      <td>0</td>\n",
       "      <td>1</td>\n",
       "      <td>0</td>\n",
       "    </tr>\n",
       "    <tr>\n",
       "      <th>6330</th>\n",
       "      <td>70</td>\n",
       "      <td>2</td>\n",
       "      <td>31</td>\n",
       "      <td>38</td>\n",
       "      <td>0</td>\n",
       "      <td>1</td>\n",
       "      <td>0</td>\n",
       "      <td>0</td>\n",
       "      <td>0</td>\n",
       "      <td>1</td>\n",
       "      <td>...</td>\n",
       "      <td>1</td>\n",
       "      <td>0</td>\n",
       "      <td>0</td>\n",
       "      <td>0</td>\n",
       "      <td>0</td>\n",
       "      <td>0</td>\n",
       "      <td>0</td>\n",
       "      <td>0</td>\n",
       "      <td>1</td>\n",
       "      <td>0</td>\n",
       "    </tr>\n",
       "    <tr>\n",
       "      <th>6331</th>\n",
       "      <td>8</td>\n",
       "      <td>2</td>\n",
       "      <td>31</td>\n",
       "      <td>39</td>\n",
       "      <td>0</td>\n",
       "      <td>1</td>\n",
       "      <td>0</td>\n",
       "      <td>0</td>\n",
       "      <td>0</td>\n",
       "      <td>1</td>\n",
       "      <td>...</td>\n",
       "      <td>1</td>\n",
       "      <td>0</td>\n",
       "      <td>0</td>\n",
       "      <td>0</td>\n",
       "      <td>0</td>\n",
       "      <td>0</td>\n",
       "      <td>0</td>\n",
       "      <td>0</td>\n",
       "      <td>1</td>\n",
       "      <td>0</td>\n",
       "    </tr>\n",
       "    <tr>\n",
       "      <th>6332</th>\n",
       "      <td>125</td>\n",
       "      <td>2</td>\n",
       "      <td>31</td>\n",
       "      <td>31</td>\n",
       "      <td>0</td>\n",
       "      <td>0</td>\n",
       "      <td>1</td>\n",
       "      <td>0</td>\n",
       "      <td>0</td>\n",
       "      <td>0</td>\n",
       "      <td>...</td>\n",
       "      <td>0</td>\n",
       "      <td>1</td>\n",
       "      <td>0</td>\n",
       "      <td>0</td>\n",
       "      <td>0</td>\n",
       "      <td>0</td>\n",
       "      <td>0</td>\n",
       "      <td>1</td>\n",
       "      <td>0</td>\n",
       "      <td>0</td>\n",
       "    </tr>\n",
       "    <tr>\n",
       "      <th>6333</th>\n",
       "      <td>125</td>\n",
       "      <td>2</td>\n",
       "      <td>31</td>\n",
       "      <td>31</td>\n",
       "      <td>0</td>\n",
       "      <td>0</td>\n",
       "      <td>1</td>\n",
       "      <td>0</td>\n",
       "      <td>0</td>\n",
       "      <td>0</td>\n",
       "      <td>...</td>\n",
       "      <td>0</td>\n",
       "      <td>1</td>\n",
       "      <td>0</td>\n",
       "      <td>0</td>\n",
       "      <td>0</td>\n",
       "      <td>0</td>\n",
       "      <td>0</td>\n",
       "      <td>1</td>\n",
       "      <td>0</td>\n",
       "      <td>0</td>\n",
       "    </tr>\n",
       "  </tbody>\n",
       "</table>\n",
       "<p>5 rows × 48 columns</p>\n",
       "</div>"
      ],
      "text/plain": [
       "      event_min  performer  listing_week  event_week  \\\n",
       "6329        130          2            31          38   \n",
       "6330         70          2            31          38   \n",
       "6331          8          2            31          39   \n",
       "6332        125          2            31          31   \n",
       "6333        125          2            31          31   \n",
       "\n",
       "      taxonomy_Classical Orchestral  taxonomy_MLB Baseball  \\\n",
       "6329                              0                      1   \n",
       "6330                              0                      1   \n",
       "6331                              0                      1   \n",
       "6332                              0                      0   \n",
       "6333                              0                      0   \n",
       "\n",
       "      taxonomy_Minor League Baseball  performer_1_Iowa Cubs  \\\n",
       "6329                               0                      0   \n",
       "6330                               0                      0   \n",
       "6331                               0                      0   \n",
       "6332                               1                      0   \n",
       "6333                               1                      0   \n",
       "\n",
       "      performer_1_John Pizzarelli  performer_1_Los Angeles Dodgers  \\\n",
       "6329                            0                                1   \n",
       "6330                            0                                1   \n",
       "6331                            0                                1   \n",
       "6332                            0                                0   \n",
       "6333                            0                                0   \n",
       "\n",
       "                     ...                   performer_2_San Francisco Giants  \\\n",
       "6329                 ...                                                  1   \n",
       "6330                 ...                                                  1   \n",
       "6331                 ...                                                  1   \n",
       "6332                 ...                                                  0   \n",
       "6333                 ...                                                  0   \n",
       "\n",
       "      performer_2_Tacoma Rainiers  performer_2_Washington Nationals  \\\n",
       "6329                            0                                 0   \n",
       "6330                            0                                 0   \n",
       "6331                            0                                 0   \n",
       "6332                            1                                 0   \n",
       "6333                            1                                 0   \n",
       "\n",
       "      performer_3_Chicago Symphony Orchestra  performer_3_Gustavo Dudamel  \\\n",
       "6329                                       0                            0   \n",
       "6330                                       0                            0   \n",
       "6331                                       0                            0   \n",
       "6332                                       0                            0   \n",
       "6333                                       0                            0   \n",
       "\n",
       "      performer_3_Los Angeles Angels  performer_4_Yuja Wang  \\\n",
       "6329                               0                      0   \n",
       "6330                               0                      0   \n",
       "6331                               0                      0   \n",
       "6332                               0                      0   \n",
       "6333                               0                      0   \n",
       "\n",
       "      venue_name_Chickasaw Bricktown Ballpark  venue_name_Dodger Stadium  \\\n",
       "6329                                        0                          1   \n",
       "6330                                        0                          1   \n",
       "6331                                        0                          1   \n",
       "6332                                        1                          0   \n",
       "6333                                        1                          0   \n",
       "\n",
       "      venue_name_Walt Disney Concert Hall  \n",
       "6329                                    0  \n",
       "6330                                    0  \n",
       "6331                                    0  \n",
       "6332                                    0  \n",
       "6333                                    0  \n",
       "\n",
       "[5 rows x 48 columns]"
      ]
     },
     "execution_count": 38,
     "metadata": {},
     "output_type": "execute_result"
    }
   ],
   "source": [
    "# Creating dummy values for categorical variables\n",
    "X= data[['event_min','performer','listing_week','event_week']]\n",
    "categorical_var = ['taxonomy','performer_1','performer_2','performer_3','performer_4','venue_name']\n",
    "for i in range(len(categorical_var)):\n",
    "    n = pd.get_dummies(data[categorical_var[i]], prefix=categorical_var[i])\n",
    "    X = pd.concat([X, n], axis=1)\n",
    "    \n",
    "X.tail()"
   ]
  },
  {
   "cell_type": "code",
   "execution_count": 39,
   "metadata": {},
   "outputs": [
    {
     "data": {
      "text/plain": [
       "0    56.0\n",
       "1    32.0\n",
       "2    49.0\n",
       "3    32.0\n",
       "4    48.0\n",
       "Name: mean_listing_price, dtype: float64"
      ]
     },
     "execution_count": 39,
     "metadata": {},
     "output_type": "execute_result"
    }
   ],
   "source": [
    "y = data['mean_listing_price']\n",
    "y.head()"
   ]
  },
  {
   "cell_type": "code",
   "execution_count": 40,
   "metadata": {},
   "outputs": [
    {
     "data": {
      "text/plain": [
       "((4215, 48), (4215,))"
      ]
     },
     "execution_count": 40,
     "metadata": {},
     "output_type": "execute_result"
    }
   ],
   "source": [
    "X.shape, y.shape"
   ]
  },
  {
   "cell_type": "markdown",
   "metadata": {},
   "source": [
    "- X has 4215 rows and 44 columns\n",
    "- y has 4215 rows and 1 column"
   ]
  },
  {
   "cell_type": "code",
   "execution_count": 41,
   "metadata": {},
   "outputs": [
    {
     "data": {
      "text/plain": [
       "0"
      ]
     },
     "execution_count": 41,
     "metadata": {},
     "output_type": "execute_result"
    }
   ],
   "source": [
    "X.columns.duplicated().sum()"
   ]
  },
  {
   "cell_type": "markdown",
   "metadata": {},
   "source": [
    "- There are no duplicate columns"
   ]
  },
  {
   "cell_type": "code",
   "execution_count": 42,
   "metadata": {},
   "outputs": [],
   "source": [
    "# Split data into train and test set\n",
    "X_train, X_test, y_train, y_test = train_test_split(X, y, test_size=0.3, random_state=0)"
   ]
  },
  {
   "cell_type": "markdown",
   "metadata": {},
   "source": [
    "- Splitting data into train and test set.\n",
    "- Using 30% of data for the test set"
   ]
  },
  {
   "cell_type": "code",
   "execution_count": 43,
   "metadata": {},
   "outputs": [
    {
     "data": {
      "text/plain": [
       "((2950, 48), (1265, 48), (2950,), (1265,))"
      ]
     },
     "execution_count": 43,
     "metadata": {},
     "output_type": "execute_result"
    }
   ],
   "source": [
    "X_train.shape, X_test.shape, y_train.shape, y_test.shape"
   ]
  },
  {
   "cell_type": "markdown",
   "metadata": {},
   "source": [
    "- Training set has 2950 rows and 44 columns.\n",
    "- Test set has 1265 rows and 44 columns"
   ]
  },
  {
   "cell_type": "markdown",
   "metadata": {},
   "source": [
    "### Building a Linear Regression Model for mean_listing_price"
   ]
  },
  {
   "cell_type": "code",
   "execution_count": 44,
   "metadata": {},
   "outputs": [],
   "source": [
    "from sklearn.preprocessing import PolynomialFeatures\n",
    "poly = PolynomialFeatures(degree=2)\n",
    "X_train_ = poly.fit_transform(X_train)\n",
    "X_test_ = poly.fit_transform(X_test)"
   ]
  },
  {
   "cell_type": "code",
   "execution_count": 45,
   "metadata": {},
   "outputs": [
    {
     "data": {
      "text/plain": [
       "LinearRegression(copy_X=True, fit_intercept=True, n_jobs=None,\n",
       "         normalize=False)"
      ]
     },
     "execution_count": 45,
     "metadata": {},
     "output_type": "execute_result"
    }
   ],
   "source": [
    "regressor = LinearRegression()\n",
    "regressor.fit(X_train_, y_train)"
   ]
  },
  {
   "cell_type": "markdown",
   "metadata": {},
   "source": [
    "<a id='eval'></a>\n",
    "## Evaluation"
   ]
  },
  {
   "cell_type": "code",
   "execution_count": 46,
   "metadata": {},
   "outputs": [
    {
     "name": "stdout",
     "output_type": "stream",
     "text": [
      "Train r2 score:  0.9694948118327229\n",
      "Test r2 score:  0.9537288464687699\n",
      "Linear Regression RMSE: 26.8837\n",
      "Linear Regression MAE: 9.0693\n"
     ]
    }
   ],
   "source": [
    "# Calculating R2 value\n",
    "y_pred = regressor.predict(X_test_)\n",
    "y_train_pred = regressor.predict(X_train_)\n",
    "print('Train r2 score: ', r2_score(y_train_pred, y_train))\n",
    "print('Test r2 score: ', r2_score(y_pred, y_test))\n",
    "\n",
    "# Calculate root mean squared error\n",
    "lin_mse = mean_squared_error(y_pred, y_test)\n",
    "lin_rmse = np.sqrt(lin_mse)\n",
    "print('Linear Regression RMSE: %.4f' % lin_rmse)\n",
    "\n",
    "# Calculate mean_absolute_error\n",
    "lin_mae = mean_absolute_error(y_pred, y_test)\n",
    "print('Linear Regression MAE: %.4f' % lin_mae)"
   ]
  },
  {
   "cell_type": "markdown",
   "metadata": {},
   "source": [
    "### Random Forest Regressor to predict mean_listing_price"
   ]
  },
  {
   "cell_type": "code",
   "execution_count": 47,
   "metadata": {},
   "outputs": [
    {
     "name": "stdout",
     "output_type": "stream",
     "text": [
      "8.292072557329284\n",
      "best_parameters: {'min_samples_leaf': 3, 'min_samples_split': 9, 'n_estimators': 200}\n"
     ]
    }
   ],
   "source": [
    "# Fitting the model to the training set\n",
    "from sklearn.ensemble import RandomForestRegressor\n",
    "\n",
    "model_RF = RandomForestRegressor(n_estimators = 100) \n",
    "\n",
    "# Applying Grid Search to find the best model and the best parameters \n",
    "\n",
    "parameters = [{'n_estimators':[200,300,400], 'min_samples_split':[3,9,15],'min_samples_leaf':[3,5,7]},\n",
    "             {'n_estimators':[50, 60, 70], 'max_depth': [5, 7, 9], 'min_samples_leaf': [30, 40, 50]}]\n",
    "\n",
    "grid_search = GridSearchCV(estimator = model_RF,\n",
    "                           param_grid = parameters,\n",
    "                           scoring = 'neg_mean_absolute_error',\n",
    "                           cv = 5,           \n",
    "                           n_jobs = -1)      \n",
    "\n",
    "grid_search = grid_search.fit(X_train, y_train)\n",
    "\n",
    "best_scoring = grid_search.best_score_\n",
    "rmse_regress = np.mean(np.abs(best_scoring))  # In above, I selected the 'mean_absolute_error: mae' scoring.\n",
    "\n",
    "\n",
    "print(rmse_regress)\n",
    "\n",
    "best_parameters = grid_search.best_params_\n",
    "print(\"best_parameters:\",best_parameters)"
   ]
  },
  {
   "cell_type": "markdown",
   "metadata": {},
   "source": [
    "#### Implementing Random Forest using best parameters"
   ]
  },
  {
   "cell_type": "code",
   "execution_count": 49,
   "metadata": {},
   "outputs": [
    {
     "data": {
      "text/plain": [
       "RandomForestRegressor(bootstrap=True, criterion='mae', max_depth=None,\n",
       "           max_features='auto', max_leaf_nodes=None,\n",
       "           min_impurity_decrease=0.0, min_impurity_split=None,\n",
       "           min_samples_leaf=3, min_samples_split=9,\n",
       "           min_weight_fraction_leaf=0.0, n_estimators=200, n_jobs=-1,\n",
       "           oob_score=False, random_state=3, verbose=0, warm_start=False)"
      ]
     },
     "execution_count": 49,
     "metadata": {},
     "output_type": "execute_result"
    }
   ],
   "source": [
    "rf = RandomForestRegressor(n_estimators=200, \n",
    "                               min_samples_leaf =3,\n",
    "                               min_samples_split =9,\n",
    "                               criterion='mae', \n",
    "                               random_state=3, \n",
    "                               n_jobs=-1)\n",
    "rf.fit(X_train, y_train)"
   ]
  },
  {
   "cell_type": "code",
   "execution_count": 50,
   "metadata": {},
   "outputs": [
    {
     "name": "stdout",
     "output_type": "stream",
     "text": [
      "Train r2 score:  0.9693469715930674\n",
      "Test r2 score:  0.9597393903707766\n",
      "Random Forest Regression RMSE: 25.2746\n",
      "Random Forest Regression MAE: 8.0431\n"
     ]
    }
   ],
   "source": [
    "# Calculating R2 value\n",
    "y_pred = rf.predict(X_test)\n",
    "y_train_pred = rf.predict(X_train)\n",
    "print('Train r2 score: ', r2_score(y_train_pred, y_train))\n",
    "print('Test r2 score: ', r2_score(y_pred, y_test))\n",
    "\n",
    "# Calculate root mean squared error\n",
    "rf_mse = mean_squared_error(y_pred, y_test)\n",
    "rf_rmse = np.sqrt(rf_mse)\n",
    "print('Random Forest Regression RMSE: %.4f' % rf_rmse)\n",
    "\n",
    "# Calculate mean_absolute_error\n",
    "rf_mae = mean_absolute_error(y_pred, y_test)\n",
    "print('Random Forest Regression MAE: %.4f' % rf_mae)"
   ]
  },
  {
   "cell_type": "code",
   "execution_count": 51,
   "metadata": {
    "collapsed": true
   },
   "outputs": [
    {
     "data": {
      "text/html": [
       "<div>\n",
       "<style scoped>\n",
       "    .dataframe tbody tr th:only-of-type {\n",
       "        vertical-align: middle;\n",
       "    }\n",
       "\n",
       "    .dataframe tbody tr th {\n",
       "        vertical-align: top;\n",
       "    }\n",
       "\n",
       "    .dataframe thead th {\n",
       "        text-align: right;\n",
       "    }\n",
       "</style>\n",
       "<table border=\"1\" class=\"dataframe\">\n",
       "  <thead>\n",
       "    <tr style=\"text-align: right;\">\n",
       "      <th></th>\n",
       "      <th>features</th>\n",
       "      <th>coefs</th>\n",
       "    </tr>\n",
       "  </thead>\n",
       "  <tbody>\n",
       "    <tr>\n",
       "      <th>4</th>\n",
       "      <td>taxonomy_Classical Orchestral</td>\n",
       "      <td>0.322700</td>\n",
       "    </tr>\n",
       "    <tr>\n",
       "      <th>47</th>\n",
       "      <td>venue_name_Walt Disney Concert Hall</td>\n",
       "      <td>0.322330</td>\n",
       "    </tr>\n",
       "    <tr>\n",
       "      <th>2</th>\n",
       "      <td>listing_week</td>\n",
       "      <td>0.080722</td>\n",
       "    </tr>\n",
       "    <tr>\n",
       "      <th>0</th>\n",
       "      <td>event_min</td>\n",
       "      <td>0.042724</td>\n",
       "    </tr>\n",
       "    <tr>\n",
       "      <th>38</th>\n",
       "      <td>performer_2_San Francisco Giants</td>\n",
       "      <td>0.040986</td>\n",
       "    </tr>\n",
       "    <tr>\n",
       "      <th>3</th>\n",
       "      <td>event_week</td>\n",
       "      <td>0.037878</td>\n",
       "    </tr>\n",
       "    <tr>\n",
       "      <th>46</th>\n",
       "      <td>venue_name_Dodger Stadium</td>\n",
       "      <td>0.017583</td>\n",
       "    </tr>\n",
       "    <tr>\n",
       "      <th>5</th>\n",
       "      <td>taxonomy_MLB Baseball</td>\n",
       "      <td>0.016599</td>\n",
       "    </tr>\n",
       "    <tr>\n",
       "      <th>45</th>\n",
       "      <td>venue_name_Chickasaw Bricktown Ballpark</td>\n",
       "      <td>0.014847</td>\n",
       "    </tr>\n",
       "    <tr>\n",
       "      <th>22</th>\n",
       "      <td>performer_2_Gil Shaham</td>\n",
       "      <td>0.014120</td>\n",
       "    </tr>\n",
       "    <tr>\n",
       "      <th>6</th>\n",
       "      <td>taxonomy_Minor League Baseball</td>\n",
       "      <td>0.013689</td>\n",
       "    </tr>\n",
       "    <tr>\n",
       "      <th>9</th>\n",
       "      <td>performer_1_Los Angeles Dodgers</td>\n",
       "      <td>0.010513</td>\n",
       "    </tr>\n",
       "    <tr>\n",
       "      <th>36</th>\n",
       "      <td>performer_2_Riccardo Muti</td>\n",
       "      <td>0.007936</td>\n",
       "    </tr>\n",
       "    <tr>\n",
       "      <th>25</th>\n",
       "      <td>performer_2_Israel Philharmonic Orchestra</td>\n",
       "      <td>0.007451</td>\n",
       "    </tr>\n",
       "    <tr>\n",
       "      <th>41</th>\n",
       "      <td>performer_3_Chicago Symphony Orchestra</td>\n",
       "      <td>0.007280</td>\n",
       "    </tr>\n",
       "    <tr>\n",
       "      <th>10</th>\n",
       "      <td>performer_1_Los Angeles Philharmonic</td>\n",
       "      <td>0.006419</td>\n",
       "    </tr>\n",
       "    <tr>\n",
       "      <th>23</th>\n",
       "      <td>performer_2_Gustavo Dudamel</td>\n",
       "      <td>0.006167</td>\n",
       "    </tr>\n",
       "    <tr>\n",
       "      <th>24</th>\n",
       "      <td>performer_2_Hilary Hahn</td>\n",
       "      <td>0.006145</td>\n",
       "    </tr>\n",
       "    <tr>\n",
       "      <th>27</th>\n",
       "      <td>performer_2_Los Angeles Angels</td>\n",
       "      <td>0.004345</td>\n",
       "    </tr>\n",
       "    <tr>\n",
       "      <th>20</th>\n",
       "      <td>performer_2_Colorado Rockies</td>\n",
       "      <td>0.003544</td>\n",
       "    </tr>\n",
       "    <tr>\n",
       "      <th>29</th>\n",
       "      <td>performer_2_Marc Lowenstein</td>\n",
       "      <td>0.002449</td>\n",
       "    </tr>\n",
       "    <tr>\n",
       "      <th>16</th>\n",
       "      <td>performer_2_Arizona Diamondbacks</td>\n",
       "      <td>0.002351</td>\n",
       "    </tr>\n",
       "    <tr>\n",
       "      <th>17</th>\n",
       "      <td>performer_2_Atlanta Braves</td>\n",
       "      <td>0.001800</td>\n",
       "    </tr>\n",
       "    <tr>\n",
       "      <th>26</th>\n",
       "      <td>performer_2_Kansas City Royals</td>\n",
       "      <td>0.001479</td>\n",
       "    </tr>\n",
       "    <tr>\n",
       "      <th>34</th>\n",
       "      <td>performer_2_Omaha Storm Chasers</td>\n",
       "      <td>0.001139</td>\n",
       "    </tr>\n",
       "    <tr>\n",
       "      <th>32</th>\n",
       "      <td>performer_2_New York Mets</td>\n",
       "      <td>0.001094</td>\n",
       "    </tr>\n",
       "    <tr>\n",
       "      <th>40</th>\n",
       "      <td>performer_2_Washington Nationals</td>\n",
       "      <td>0.000980</td>\n",
       "    </tr>\n",
       "    <tr>\n",
       "      <th>15</th>\n",
       "      <td>performer_1_Round Rock Express</td>\n",
       "      <td>0.000793</td>\n",
       "    </tr>\n",
       "    <tr>\n",
       "      <th>37</th>\n",
       "      <td>performer_2_San Diego Padres</td>\n",
       "      <td>0.000687</td>\n",
       "    </tr>\n",
       "    <tr>\n",
       "      <th>44</th>\n",
       "      <td>performer_4_Yuja Wang</td>\n",
       "      <td>0.000432</td>\n",
       "    </tr>\n",
       "    <tr>\n",
       "      <th>30</th>\n",
       "      <td>performer_2_Milwaukee Brewers</td>\n",
       "      <td>0.000373</td>\n",
       "    </tr>\n",
       "    <tr>\n",
       "      <th>31</th>\n",
       "      <td>performer_2_Minnesota Twins</td>\n",
       "      <td>0.000327</td>\n",
       "    </tr>\n",
       "    <tr>\n",
       "      <th>19</th>\n",
       "      <td>performer_2_Cincinnati Reds</td>\n",
       "      <td>0.000310</td>\n",
       "    </tr>\n",
       "    <tr>\n",
       "      <th>18</th>\n",
       "      <td>performer_2_Chicago White Sox</td>\n",
       "      <td>0.000300</td>\n",
       "    </tr>\n",
       "    <tr>\n",
       "      <th>39</th>\n",
       "      <td>performer_2_Tacoma Rainiers</td>\n",
       "      <td>0.000272</td>\n",
       "    </tr>\n",
       "    <tr>\n",
       "      <th>13</th>\n",
       "      <td>performer_1_New Orleans Baby Cakes</td>\n",
       "      <td>0.000216</td>\n",
       "    </tr>\n",
       "    <tr>\n",
       "      <th>42</th>\n",
       "      <td>performer_3_Gustavo Dudamel</td>\n",
       "      <td>0.000165</td>\n",
       "    </tr>\n",
       "    <tr>\n",
       "      <th>14</th>\n",
       "      <td>performer_1_Oklahoma City Dodgers</td>\n",
       "      <td>0.000157</td>\n",
       "    </tr>\n",
       "    <tr>\n",
       "      <th>7</th>\n",
       "      <td>performer_1_Iowa Cubs</td>\n",
       "      <td>0.000133</td>\n",
       "    </tr>\n",
       "    <tr>\n",
       "      <th>33</th>\n",
       "      <td>performer_2_Oklahoma City Dodgers</td>\n",
       "      <td>0.000129</td>\n",
       "    </tr>\n",
       "    <tr>\n",
       "      <th>8</th>\n",
       "      <td>performer_1_John Pizzarelli</td>\n",
       "      <td>0.000126</td>\n",
       "    </tr>\n",
       "    <tr>\n",
       "      <th>35</th>\n",
       "      <td>performer_2_Reno Aces</td>\n",
       "      <td>0.000120</td>\n",
       "    </tr>\n",
       "    <tr>\n",
       "      <th>12</th>\n",
       "      <td>performer_1_Nashville Sounds</td>\n",
       "      <td>0.000065</td>\n",
       "    </tr>\n",
       "    <tr>\n",
       "      <th>28</th>\n",
       "      <td>performer_2_Los Angeles Philharmonic</td>\n",
       "      <td>0.000064</td>\n",
       "    </tr>\n",
       "    <tr>\n",
       "      <th>11</th>\n",
       "      <td>performer_1_Memphis Redbirds</td>\n",
       "      <td>0.000036</td>\n",
       "    </tr>\n",
       "    <tr>\n",
       "      <th>21</th>\n",
       "      <td>performer_2_Colorado Springs Sky Sox</td>\n",
       "      <td>0.000021</td>\n",
       "    </tr>\n",
       "    <tr>\n",
       "      <th>1</th>\n",
       "      <td>performer</td>\n",
       "      <td>0.000000</td>\n",
       "    </tr>\n",
       "    <tr>\n",
       "      <th>43</th>\n",
       "      <td>performer_3_Los Angeles Angels</td>\n",
       "      <td>0.000000</td>\n",
       "    </tr>\n",
       "  </tbody>\n",
       "</table>\n",
       "</div>"
      ],
      "text/plain": [
       "                                     features     coefs\n",
       "4               taxonomy_Classical Orchestral  0.322700\n",
       "47        venue_name_Walt Disney Concert Hall  0.322330\n",
       "2                                listing_week  0.080722\n",
       "0                                   event_min  0.042724\n",
       "38           performer_2_San Francisco Giants  0.040986\n",
       "3                                  event_week  0.037878\n",
       "46                  venue_name_Dodger Stadium  0.017583\n",
       "5                       taxonomy_MLB Baseball  0.016599\n",
       "45    venue_name_Chickasaw Bricktown Ballpark  0.014847\n",
       "22                     performer_2_Gil Shaham  0.014120\n",
       "6              taxonomy_Minor League Baseball  0.013689\n",
       "9             performer_1_Los Angeles Dodgers  0.010513\n",
       "36                  performer_2_Riccardo Muti  0.007936\n",
       "25  performer_2_Israel Philharmonic Orchestra  0.007451\n",
       "41     performer_3_Chicago Symphony Orchestra  0.007280\n",
       "10       performer_1_Los Angeles Philharmonic  0.006419\n",
       "23                performer_2_Gustavo Dudamel  0.006167\n",
       "24                    performer_2_Hilary Hahn  0.006145\n",
       "27             performer_2_Los Angeles Angels  0.004345\n",
       "20               performer_2_Colorado Rockies  0.003544\n",
       "29                performer_2_Marc Lowenstein  0.002449\n",
       "16           performer_2_Arizona Diamondbacks  0.002351\n",
       "17                 performer_2_Atlanta Braves  0.001800\n",
       "26             performer_2_Kansas City Royals  0.001479\n",
       "34            performer_2_Omaha Storm Chasers  0.001139\n",
       "32                  performer_2_New York Mets  0.001094\n",
       "40           performer_2_Washington Nationals  0.000980\n",
       "15             performer_1_Round Rock Express  0.000793\n",
       "37               performer_2_San Diego Padres  0.000687\n",
       "44                      performer_4_Yuja Wang  0.000432\n",
       "30              performer_2_Milwaukee Brewers  0.000373\n",
       "31                performer_2_Minnesota Twins  0.000327\n",
       "19                performer_2_Cincinnati Reds  0.000310\n",
       "18              performer_2_Chicago White Sox  0.000300\n",
       "39                performer_2_Tacoma Rainiers  0.000272\n",
       "13         performer_1_New Orleans Baby Cakes  0.000216\n",
       "42                performer_3_Gustavo Dudamel  0.000165\n",
       "14          performer_1_Oklahoma City Dodgers  0.000157\n",
       "7                       performer_1_Iowa Cubs  0.000133\n",
       "33          performer_2_Oklahoma City Dodgers  0.000129\n",
       "8                 performer_1_John Pizzarelli  0.000126\n",
       "35                      performer_2_Reno Aces  0.000120\n",
       "12               performer_1_Nashville Sounds  0.000065\n",
       "28       performer_2_Los Angeles Philharmonic  0.000064\n",
       "11               performer_1_Memphis Redbirds  0.000036\n",
       "21       performer_2_Colorado Springs Sky Sox  0.000021\n",
       "1                                   performer  0.000000\n",
       "43             performer_3_Los Angeles Angels  0.000000"
      ]
     },
     "execution_count": 51,
     "metadata": {},
     "output_type": "execute_result"
    }
   ],
   "source": [
    "coefs_df = pd.DataFrame()\n",
    "\n",
    "coefs_df['features'] = X_train.columns\n",
    "coefs_df['coefs'] = rf.feature_importances_\n",
    "coefs_df.sort_values('coefs', ascending=False)\n"
   ]
  },
  {
   "cell_type": "code",
   "execution_count": 52,
   "metadata": {},
   "outputs": [
    {
     "data": {
      "text/plain": [
       "48"
      ]
     },
     "execution_count": 52,
     "metadata": {},
     "output_type": "execute_result"
    }
   ],
   "source": [
    "feature_meanlistinprice = coefs_df['features']\n",
    "len(feature_meanlistinprice)"
   ]
  },
  {
   "cell_type": "markdown",
   "metadata": {},
   "source": [
    "### Preparing the data for predicting tickets_listed"
   ]
  },
  {
   "cell_type": "code",
   "execution_count": 53,
   "metadata": {},
   "outputs": [
    {
     "name": "stdout",
     "output_type": "stream",
     "text": [
      "(4215, 48)\n"
     ]
    },
    {
     "data": {
      "text/html": [
       "<div>\n",
       "<style scoped>\n",
       "    .dataframe tbody tr th:only-of-type {\n",
       "        vertical-align: middle;\n",
       "    }\n",
       "\n",
       "    .dataframe tbody tr th {\n",
       "        vertical-align: top;\n",
       "    }\n",
       "\n",
       "    .dataframe thead th {\n",
       "        text-align: right;\n",
       "    }\n",
       "</style>\n",
       "<table border=\"1\" class=\"dataframe\">\n",
       "  <thead>\n",
       "    <tr style=\"text-align: right;\">\n",
       "      <th></th>\n",
       "      <th>event_min</th>\n",
       "      <th>performer</th>\n",
       "      <th>listing_week</th>\n",
       "      <th>event_week</th>\n",
       "      <th>taxonomy_Classical Orchestral</th>\n",
       "      <th>taxonomy_MLB Baseball</th>\n",
       "      <th>taxonomy_Minor League Baseball</th>\n",
       "      <th>performer_1_Iowa Cubs</th>\n",
       "      <th>performer_1_John Pizzarelli</th>\n",
       "      <th>performer_1_Los Angeles Dodgers</th>\n",
       "      <th>...</th>\n",
       "      <th>performer_2_San Francisco Giants</th>\n",
       "      <th>performer_2_Tacoma Rainiers</th>\n",
       "      <th>performer_2_Washington Nationals</th>\n",
       "      <th>performer_3_Chicago Symphony Orchestra</th>\n",
       "      <th>performer_3_Gustavo Dudamel</th>\n",
       "      <th>performer_3_Los Angeles Angels</th>\n",
       "      <th>performer_4_Yuja Wang</th>\n",
       "      <th>venue_name_Chickasaw Bricktown Ballpark</th>\n",
       "      <th>venue_name_Dodger Stadium</th>\n",
       "      <th>venue_name_Walt Disney Concert Hall</th>\n",
       "    </tr>\n",
       "  </thead>\n",
       "  <tbody>\n",
       "    <tr>\n",
       "      <th>0</th>\n",
       "      <td>130</td>\n",
       "      <td>2</td>\n",
       "      <td>22</td>\n",
       "      <td>36</td>\n",
       "      <td>0</td>\n",
       "      <td>1</td>\n",
       "      <td>0</td>\n",
       "      <td>0</td>\n",
       "      <td>0</td>\n",
       "      <td>1</td>\n",
       "      <td>...</td>\n",
       "      <td>0</td>\n",
       "      <td>0</td>\n",
       "      <td>0</td>\n",
       "      <td>0</td>\n",
       "      <td>0</td>\n",
       "      <td>0</td>\n",
       "      <td>0</td>\n",
       "      <td>0</td>\n",
       "      <td>1</td>\n",
       "      <td>0</td>\n",
       "    </tr>\n",
       "  </tbody>\n",
       "</table>\n",
       "<p>1 rows × 48 columns</p>\n",
       "</div>"
      ],
      "text/plain": [
       "   event_min  performer  listing_week  event_week  \\\n",
       "0        130          2            22          36   \n",
       "\n",
       "   taxonomy_Classical Orchestral  taxonomy_MLB Baseball  \\\n",
       "0                              0                      1   \n",
       "\n",
       "   taxonomy_Minor League Baseball  performer_1_Iowa Cubs  \\\n",
       "0                               0                      0   \n",
       "\n",
       "   performer_1_John Pizzarelli  performer_1_Los Angeles Dodgers  \\\n",
       "0                            0                                1   \n",
       "\n",
       "                  ...                   performer_2_San Francisco Giants  \\\n",
       "0                 ...                                                  0   \n",
       "\n",
       "   performer_2_Tacoma Rainiers  performer_2_Washington Nationals  \\\n",
       "0                            0                                 0   \n",
       "\n",
       "   performer_3_Chicago Symphony Orchestra  performer_3_Gustavo Dudamel  \\\n",
       "0                                       0                            0   \n",
       "\n",
       "   performer_3_Los Angeles Angels  performer_4_Yuja Wang  \\\n",
       "0                               0                      0   \n",
       "\n",
       "   venue_name_Chickasaw Bricktown Ballpark  venue_name_Dodger Stadium  \\\n",
       "0                                        0                          1   \n",
       "\n",
       "   venue_name_Walt Disney Concert Hall  \n",
       "0                                    0  \n",
       "\n",
       "[1 rows x 48 columns]"
      ]
     },
     "execution_count": 53,
     "metadata": {},
     "output_type": "execute_result"
    }
   ],
   "source": [
    "X_ticket = X\n",
    "print(X_ticket.shape)\n",
    "X_ticket.head(1)"
   ]
  },
  {
   "cell_type": "markdown",
   "metadata": {},
   "source": [
    "- X_ticket has 4215 rows and 48 columns"
   ]
  },
  {
   "cell_type": "code",
   "execution_count": 54,
   "metadata": {},
   "outputs": [
    {
     "name": "stdout",
     "output_type": "stream",
     "text": [
      "(4215,)\n"
     ]
    },
    {
     "data": {
      "text/plain": [
       "0     8942.0\n",
       "1    11642.0\n",
       "2    10344.0\n",
       "3    13130.0\n",
       "4    13102.0\n",
       "Name: tickets_listed, dtype: float64"
      ]
     },
     "execution_count": 54,
     "metadata": {},
     "output_type": "execute_result"
    }
   ],
   "source": [
    "y_ticket = data['tickets_listed']\n",
    "print(y_ticket.shape)\n",
    "y_ticket.head()"
   ]
  },
  {
   "cell_type": "markdown",
   "metadata": {},
   "source": [
    "- y has 4215 rows and one column"
   ]
  },
  {
   "cell_type": "code",
   "execution_count": 55,
   "metadata": {},
   "outputs": [],
   "source": [
    "# Split data into train and test set\n",
    "X_train, X_test, y_train, y_test = train_test_split(X_ticket, y_ticket, test_size=0.3, random_state=0)"
   ]
  },
  {
   "cell_type": "code",
   "execution_count": 56,
   "metadata": {},
   "outputs": [
    {
     "data": {
      "text/plain": [
       "((2950, 48), (1265, 48), (2950,), (1265,))"
      ]
     },
     "execution_count": 56,
     "metadata": {},
     "output_type": "execute_result"
    }
   ],
   "source": [
    "X_train.shape, X_test.shape, y_train.shape, y_test.shape"
   ]
  },
  {
   "cell_type": "markdown",
   "metadata": {},
   "source": [
    "- Training data has 2950 rows and 48 columns\n",
    "- Test data has 1265 rows and 48 columns"
   ]
  },
  {
   "cell_type": "markdown",
   "metadata": {},
   "source": [
    "### Random Forest Regressor to predict tickets_listed"
   ]
  },
  {
   "cell_type": "code",
   "execution_count": 57,
   "metadata": {},
   "outputs": [
    {
     "name": "stdout",
     "output_type": "stream",
     "text": [
      "445.52487036031874\n",
      "best_parameters: {'min_samples_leaf': 3, 'min_samples_split': 3, 'n_estimators': 200}\n"
     ]
    }
   ],
   "source": [
    "# Fitting the model to the training set\n",
    "from sklearn.ensemble import RandomForestRegressor\n",
    "\n",
    "model_RF = RandomForestRegressor(n_estimators = 100) \n",
    "\n",
    "# Applying Grid Search to find the best model and the best parameters \n",
    "\n",
    "parameters = [{'n_estimators':[200,300,400], 'min_samples_split':[3,9,15],'min_samples_leaf':[3,5,7]},\n",
    "             {'n_estimators':[50, 60, 70], 'max_depth': [5, 7, 9], 'min_samples_leaf': [30, 40, 50]}]\n",
    "\n",
    "grid_search = GridSearchCV(estimator = model_RF,\n",
    "                           param_grid = parameters,\n",
    "                           scoring = 'neg_mean_absolute_error',\n",
    "                           cv = 5,           \n",
    "                           n_jobs = -1)      \n",
    "\n",
    "grid_search = grid_search.fit(X_train, y_train)\n",
    "\n",
    "best_scoring = grid_search.best_score_\n",
    "rmse_regress = np.mean(np.abs(best_scoring))  # In above, I selected the 'mean_absolute_error: mae' scoring.\n",
    "\n",
    "\n",
    "print(rmse_regress)\n",
    "\n",
    "best_parameters = grid_search.best_params_\n",
    "print(\"best_parameters:\",best_parameters)"
   ]
  },
  {
   "cell_type": "code",
   "execution_count": 58,
   "metadata": {},
   "outputs": [
    {
     "data": {
      "text/plain": [
       "RandomForestRegressor(bootstrap=True, criterion='mae', max_depth=None,\n",
       "           max_features='auto', max_leaf_nodes=None,\n",
       "           min_impurity_decrease=0.0, min_impurity_split=None,\n",
       "           min_samples_leaf=3, min_samples_split=3,\n",
       "           min_weight_fraction_leaf=0.0, n_estimators=200, n_jobs=-1,\n",
       "           oob_score=False, random_state=3, verbose=0, warm_start=False)"
      ]
     },
     "execution_count": 58,
     "metadata": {},
     "output_type": "execute_result"
    }
   ],
   "source": [
    "rf = RandomForestRegressor(n_estimators=200, \n",
    "                               min_samples_leaf =3,\n",
    "                               min_samples_split =3,\n",
    "                               criterion='mae', \n",
    "                               random_state=3, \n",
    "                               n_jobs=-1)\n",
    "rf.fit(X_train, y_train)"
   ]
  },
  {
   "cell_type": "code",
   "execution_count": 59,
   "metadata": {},
   "outputs": [
    {
     "name": "stdout",
     "output_type": "stream",
     "text": [
      "Train r2 score for tickets listed:  0.9734975053707792\n",
      "Test r2 score for tickets listed:  0.9708127589755198\n",
      "Random Forest Regression RMSE for tickets listed: 812.0433\n",
      "Random Forest Regression MAE for tickets listed: 424.0168\n"
     ]
    }
   ],
   "source": [
    "# Calculating R2 value\n",
    "y_pred = rf.predict(X_test)\n",
    "y_train_pred = rf.predict(X_train)\n",
    "print('Train r2 score for tickets listed: ', r2_score(y_train_pred, y_train))\n",
    "print('Test r2 score for tickets listed: ', r2_score(y_pred, y_test))\n",
    "\n",
    "# Calculate root mean squared error\n",
    "rf_mse = mean_squared_error(y_pred, y_test)\n",
    "rf_rmse = np.sqrt(rf_mse)\n",
    "print('Random Forest Regression RMSE for tickets listed: %.4f' % rf_rmse)\n",
    "\n",
    "# Calculate mean_absolute_error\n",
    "rf_mae = mean_absolute_error(y_pred, y_test)\n",
    "print('Random Forest Regression MAE for tickets listed: %.4f' % rf_mae)"
   ]
  },
  {
   "cell_type": "code",
   "execution_count": 60,
   "metadata": {
    "collapsed": true
   },
   "outputs": [
    {
     "data": {
      "text/html": [
       "<div>\n",
       "<style scoped>\n",
       "    .dataframe tbody tr th:only-of-type {\n",
       "        vertical-align: middle;\n",
       "    }\n",
       "\n",
       "    .dataframe tbody tr th {\n",
       "        vertical-align: top;\n",
       "    }\n",
       "\n",
       "    .dataframe thead th {\n",
       "        text-align: right;\n",
       "    }\n",
       "</style>\n",
       "<table border=\"1\" class=\"dataframe\">\n",
       "  <thead>\n",
       "    <tr style=\"text-align: right;\">\n",
       "      <th></th>\n",
       "      <th>features</th>\n",
       "      <th>coefs</th>\n",
       "    </tr>\n",
       "  </thead>\n",
       "  <tbody>\n",
       "    <tr>\n",
       "      <th>5</th>\n",
       "      <td>taxonomy_MLB Baseball</td>\n",
       "      <td>3.300476e-01</td>\n",
       "    </tr>\n",
       "    <tr>\n",
       "      <th>46</th>\n",
       "      <td>venue_name_Dodger Stadium</td>\n",
       "      <td>3.298808e-01</td>\n",
       "    </tr>\n",
       "    <tr>\n",
       "      <th>9</th>\n",
       "      <td>performer_1_Los Angeles Dodgers</td>\n",
       "      <td>2.565322e-01</td>\n",
       "    </tr>\n",
       "    <tr>\n",
       "      <th>2</th>\n",
       "      <td>listing_week</td>\n",
       "      <td>3.459154e-02</td>\n",
       "    </tr>\n",
       "    <tr>\n",
       "      <th>3</th>\n",
       "      <td>event_week</td>\n",
       "      <td>2.613007e-02</td>\n",
       "    </tr>\n",
       "    <tr>\n",
       "      <th>0</th>\n",
       "      <td>event_min</td>\n",
       "      <td>1.038310e-02</td>\n",
       "    </tr>\n",
       "    <tr>\n",
       "      <th>30</th>\n",
       "      <td>performer_2_Milwaukee Brewers</td>\n",
       "      <td>2.172229e-03</td>\n",
       "    </tr>\n",
       "    <tr>\n",
       "      <th>16</th>\n",
       "      <td>performer_2_Arizona Diamondbacks</td>\n",
       "      <td>2.106378e-03</td>\n",
       "    </tr>\n",
       "    <tr>\n",
       "      <th>38</th>\n",
       "      <td>performer_2_San Francisco Giants</td>\n",
       "      <td>1.542102e-03</td>\n",
       "    </tr>\n",
       "    <tr>\n",
       "      <th>20</th>\n",
       "      <td>performer_2_Colorado Rockies</td>\n",
       "      <td>1.412008e-03</td>\n",
       "    </tr>\n",
       "    <tr>\n",
       "      <th>37</th>\n",
       "      <td>performer_2_San Diego Padres</td>\n",
       "      <td>1.262110e-03</td>\n",
       "    </tr>\n",
       "    <tr>\n",
       "      <th>17</th>\n",
       "      <td>performer_2_Atlanta Braves</td>\n",
       "      <td>9.589173e-04</td>\n",
       "    </tr>\n",
       "    <tr>\n",
       "      <th>31</th>\n",
       "      <td>performer_2_Minnesota Twins</td>\n",
       "      <td>5.158470e-04</td>\n",
       "    </tr>\n",
       "    <tr>\n",
       "      <th>26</th>\n",
       "      <td>performer_2_Kansas City Royals</td>\n",
       "      <td>4.844776e-04</td>\n",
       "    </tr>\n",
       "    <tr>\n",
       "      <th>18</th>\n",
       "      <td>performer_2_Chicago White Sox</td>\n",
       "      <td>4.763625e-04</td>\n",
       "    </tr>\n",
       "    <tr>\n",
       "      <th>40</th>\n",
       "      <td>performer_2_Washington Nationals</td>\n",
       "      <td>2.855035e-04</td>\n",
       "    </tr>\n",
       "    <tr>\n",
       "      <th>32</th>\n",
       "      <td>performer_2_New York Mets</td>\n",
       "      <td>2.645662e-04</td>\n",
       "    </tr>\n",
       "    <tr>\n",
       "      <th>27</th>\n",
       "      <td>performer_2_Los Angeles Angels</td>\n",
       "      <td>2.178546e-04</td>\n",
       "    </tr>\n",
       "    <tr>\n",
       "      <th>15</th>\n",
       "      <td>performer_1_Round Rock Express</td>\n",
       "      <td>1.706433e-04</td>\n",
       "    </tr>\n",
       "    <tr>\n",
       "      <th>34</th>\n",
       "      <td>performer_2_Omaha Storm Chasers</td>\n",
       "      <td>1.538033e-04</td>\n",
       "    </tr>\n",
       "    <tr>\n",
       "      <th>19</th>\n",
       "      <td>performer_2_Cincinnati Reds</td>\n",
       "      <td>1.491048e-04</td>\n",
       "    </tr>\n",
       "    <tr>\n",
       "      <th>7</th>\n",
       "      <td>performer_1_Iowa Cubs</td>\n",
       "      <td>6.108192e-05</td>\n",
       "    </tr>\n",
       "    <tr>\n",
       "      <th>33</th>\n",
       "      <td>performer_2_Oklahoma City Dodgers</td>\n",
       "      <td>4.234239e-05</td>\n",
       "    </tr>\n",
       "    <tr>\n",
       "      <th>23</th>\n",
       "      <td>performer_2_Gustavo Dudamel</td>\n",
       "      <td>3.171494e-05</td>\n",
       "    </tr>\n",
       "    <tr>\n",
       "      <th>35</th>\n",
       "      <td>performer_2_Reno Aces</td>\n",
       "      <td>2.463073e-05</td>\n",
       "    </tr>\n",
       "    <tr>\n",
       "      <th>39</th>\n",
       "      <td>performer_2_Tacoma Rainiers</td>\n",
       "      <td>1.929337e-05</td>\n",
       "    </tr>\n",
       "    <tr>\n",
       "      <th>13</th>\n",
       "      <td>performer_1_New Orleans Baby Cakes</td>\n",
       "      <td>1.289576e-05</td>\n",
       "    </tr>\n",
       "    <tr>\n",
       "      <th>25</th>\n",
       "      <td>performer_2_Israel Philharmonic Orchestra</td>\n",
       "      <td>1.227864e-05</td>\n",
       "    </tr>\n",
       "    <tr>\n",
       "      <th>12</th>\n",
       "      <td>performer_1_Nashville Sounds</td>\n",
       "      <td>9.765477e-06</td>\n",
       "    </tr>\n",
       "    <tr>\n",
       "      <th>4</th>\n",
       "      <td>taxonomy_Classical Orchestral</td>\n",
       "      <td>7.630096e-06</td>\n",
       "    </tr>\n",
       "    <tr>\n",
       "      <th>47</th>\n",
       "      <td>venue_name_Walt Disney Concert Hall</td>\n",
       "      <td>7.041751e-06</td>\n",
       "    </tr>\n",
       "    <tr>\n",
       "      <th>6</th>\n",
       "      <td>taxonomy_Minor League Baseball</td>\n",
       "      <td>6.353981e-06</td>\n",
       "    </tr>\n",
       "    <tr>\n",
       "      <th>24</th>\n",
       "      <td>performer_2_Hilary Hahn</td>\n",
       "      <td>4.515732e-06</td>\n",
       "    </tr>\n",
       "    <tr>\n",
       "      <th>14</th>\n",
       "      <td>performer_1_Oklahoma City Dodgers</td>\n",
       "      <td>4.491976e-06</td>\n",
       "    </tr>\n",
       "    <tr>\n",
       "      <th>10</th>\n",
       "      <td>performer_1_Los Angeles Philharmonic</td>\n",
       "      <td>4.325372e-06</td>\n",
       "    </tr>\n",
       "    <tr>\n",
       "      <th>45</th>\n",
       "      <td>venue_name_Chickasaw Bricktown Ballpark</td>\n",
       "      <td>4.300860e-06</td>\n",
       "    </tr>\n",
       "    <tr>\n",
       "      <th>22</th>\n",
       "      <td>performer_2_Gil Shaham</td>\n",
       "      <td>3.694260e-06</td>\n",
       "    </tr>\n",
       "    <tr>\n",
       "      <th>36</th>\n",
       "      <td>performer_2_Riccardo Muti</td>\n",
       "      <td>1.266127e-06</td>\n",
       "    </tr>\n",
       "    <tr>\n",
       "      <th>29</th>\n",
       "      <td>performer_2_Marc Lowenstein</td>\n",
       "      <td>1.235988e-06</td>\n",
       "    </tr>\n",
       "    <tr>\n",
       "      <th>41</th>\n",
       "      <td>performer_3_Chicago Symphony Orchestra</td>\n",
       "      <td>1.123395e-06</td>\n",
       "    </tr>\n",
       "    <tr>\n",
       "      <th>11</th>\n",
       "      <td>performer_1_Memphis Redbirds</td>\n",
       "      <td>1.082199e-06</td>\n",
       "    </tr>\n",
       "    <tr>\n",
       "      <th>21</th>\n",
       "      <td>performer_2_Colorado Springs Sky Sox</td>\n",
       "      <td>5.825879e-07</td>\n",
       "    </tr>\n",
       "    <tr>\n",
       "      <th>28</th>\n",
       "      <td>performer_2_Los Angeles Philharmonic</td>\n",
       "      <td>3.331748e-07</td>\n",
       "    </tr>\n",
       "    <tr>\n",
       "      <th>8</th>\n",
       "      <td>performer_1_John Pizzarelli</td>\n",
       "      <td>2.455744e-07</td>\n",
       "    </tr>\n",
       "    <tr>\n",
       "      <th>44</th>\n",
       "      <td>performer_4_Yuja Wang</td>\n",
       "      <td>2.425117e-07</td>\n",
       "    </tr>\n",
       "    <tr>\n",
       "      <th>42</th>\n",
       "      <td>performer_3_Gustavo Dudamel</td>\n",
       "      <td>2.043343e-07</td>\n",
       "    </tr>\n",
       "    <tr>\n",
       "      <th>43</th>\n",
       "      <td>performer_3_Los Angeles Angels</td>\n",
       "      <td>0.000000e+00</td>\n",
       "    </tr>\n",
       "    <tr>\n",
       "      <th>1</th>\n",
       "      <td>performer</td>\n",
       "      <td>0.000000e+00</td>\n",
       "    </tr>\n",
       "  </tbody>\n",
       "</table>\n",
       "</div>"
      ],
      "text/plain": [
       "                                     features         coefs\n",
       "5                       taxonomy_MLB Baseball  3.300476e-01\n",
       "46                  venue_name_Dodger Stadium  3.298808e-01\n",
       "9             performer_1_Los Angeles Dodgers  2.565322e-01\n",
       "2                                listing_week  3.459154e-02\n",
       "3                                  event_week  2.613007e-02\n",
       "0                                   event_min  1.038310e-02\n",
       "30              performer_2_Milwaukee Brewers  2.172229e-03\n",
       "16           performer_2_Arizona Diamondbacks  2.106378e-03\n",
       "38           performer_2_San Francisco Giants  1.542102e-03\n",
       "20               performer_2_Colorado Rockies  1.412008e-03\n",
       "37               performer_2_San Diego Padres  1.262110e-03\n",
       "17                 performer_2_Atlanta Braves  9.589173e-04\n",
       "31                performer_2_Minnesota Twins  5.158470e-04\n",
       "26             performer_2_Kansas City Royals  4.844776e-04\n",
       "18              performer_2_Chicago White Sox  4.763625e-04\n",
       "40           performer_2_Washington Nationals  2.855035e-04\n",
       "32                  performer_2_New York Mets  2.645662e-04\n",
       "27             performer_2_Los Angeles Angels  2.178546e-04\n",
       "15             performer_1_Round Rock Express  1.706433e-04\n",
       "34            performer_2_Omaha Storm Chasers  1.538033e-04\n",
       "19                performer_2_Cincinnati Reds  1.491048e-04\n",
       "7                       performer_1_Iowa Cubs  6.108192e-05\n",
       "33          performer_2_Oklahoma City Dodgers  4.234239e-05\n",
       "23                performer_2_Gustavo Dudamel  3.171494e-05\n",
       "35                      performer_2_Reno Aces  2.463073e-05\n",
       "39                performer_2_Tacoma Rainiers  1.929337e-05\n",
       "13         performer_1_New Orleans Baby Cakes  1.289576e-05\n",
       "25  performer_2_Israel Philharmonic Orchestra  1.227864e-05\n",
       "12               performer_1_Nashville Sounds  9.765477e-06\n",
       "4               taxonomy_Classical Orchestral  7.630096e-06\n",
       "47        venue_name_Walt Disney Concert Hall  7.041751e-06\n",
       "6              taxonomy_Minor League Baseball  6.353981e-06\n",
       "24                    performer_2_Hilary Hahn  4.515732e-06\n",
       "14          performer_1_Oklahoma City Dodgers  4.491976e-06\n",
       "10       performer_1_Los Angeles Philharmonic  4.325372e-06\n",
       "45    venue_name_Chickasaw Bricktown Ballpark  4.300860e-06\n",
       "22                     performer_2_Gil Shaham  3.694260e-06\n",
       "36                  performer_2_Riccardo Muti  1.266127e-06\n",
       "29                performer_2_Marc Lowenstein  1.235988e-06\n",
       "41     performer_3_Chicago Symphony Orchestra  1.123395e-06\n",
       "11               performer_1_Memphis Redbirds  1.082199e-06\n",
       "21       performer_2_Colorado Springs Sky Sox  5.825879e-07\n",
       "28       performer_2_Los Angeles Philharmonic  3.331748e-07\n",
       "8                 performer_1_John Pizzarelli  2.455744e-07\n",
       "44                      performer_4_Yuja Wang  2.425117e-07\n",
       "42                performer_3_Gustavo Dudamel  2.043343e-07\n",
       "43             performer_3_Los Angeles Angels  0.000000e+00\n",
       "1                                   performer  0.000000e+00"
      ]
     },
     "execution_count": 60,
     "metadata": {},
     "output_type": "execute_result"
    }
   ],
   "source": [
    "coefs_df = pd.DataFrame()\n",
    "\n",
    "coefs_df['features'] = X_train.columns\n",
    "coefs_df['coefs'] = rf.feature_importances_\n",
    "coefs_df.sort_values('coefs', ascending=False)"
   ]
  },
  {
   "cell_type": "code",
   "execution_count": 61,
   "metadata": {},
   "outputs": [
    {
     "data": {
      "text/plain": [
       "48"
      ]
     },
     "execution_count": 61,
     "metadata": {},
     "output_type": "execute_result"
    }
   ],
   "source": [
    "feature_ticketlisted = coefs_df['features']\n",
    "len(feature_ticketlisted)"
   ]
  },
  {
   "cell_type": "code",
   "execution_count": null,
   "metadata": {},
   "outputs": [],
   "source": []
  },
  {
   "cell_type": "code",
   "execution_count": null,
   "metadata": {},
   "outputs": [],
   "source": []
  },
  {
   "cell_type": "markdown",
   "metadata": {},
   "source": [
    "<a id='pred'></a>\n",
    "## Predicting on new cases\n",
    "\n",
    "### Preparing the holdout dataset for the model"
   ]
  },
  {
   "cell_type": "code",
   "execution_count": 62,
   "metadata": {},
   "outputs": [
    {
     "data": {
      "text/html": [
       "<div>\n",
       "<style scoped>\n",
       "    .dataframe tbody tr th:only-of-type {\n",
       "        vertical-align: middle;\n",
       "    }\n",
       "\n",
       "    .dataframe tbody tr th {\n",
       "        vertical-align: top;\n",
       "    }\n",
       "\n",
       "    .dataframe thead th {\n",
       "        text-align: right;\n",
       "    }\n",
       "</style>\n",
       "<table border=\"1\" class=\"dataframe\">\n",
       "  <thead>\n",
       "    <tr style=\"text-align: right;\">\n",
       "      <th></th>\n",
       "      <th>event_id</th>\n",
       "      <th>listing_date</th>\n",
       "      <th>event_listing_date_id</th>\n",
       "      <th>taxonomy</th>\n",
       "      <th>event_title</th>\n",
       "      <th>event_datetime</th>\n",
       "      <th>tickets_listed</th>\n",
       "      <th>mean_listing_price</th>\n",
       "      <th>performer_1</th>\n",
       "      <th>performer_2</th>\n",
       "      <th>performer_3</th>\n",
       "      <th>performer_4</th>\n",
       "      <th>venue_name</th>\n",
       "    </tr>\n",
       "  </thead>\n",
       "  <tbody>\n",
       "    <tr>\n",
       "      <th>6334</th>\n",
       "      <td>3594068</td>\n",
       "      <td>2017-08-01</td>\n",
       "      <td>3594068_17379</td>\n",
       "      <td>MLB Baseball</td>\n",
       "      <td>Arizona Diamondbacks at Los Angeles Dodgers</td>\n",
       "      <td>2017-09-06 02:10:00</td>\n",
       "      <td>NaN</td>\n",
       "      <td>NaN</td>\n",
       "      <td>Los Angeles Dodgers</td>\n",
       "      <td>Arizona Diamondbacks</td>\n",
       "      <td>NaN</td>\n",
       "      <td>NaN</td>\n",
       "      <td>Dodger Stadium</td>\n",
       "    </tr>\n",
       "    <tr>\n",
       "      <th>6335</th>\n",
       "      <td>3594065</td>\n",
       "      <td>2017-08-01</td>\n",
       "      <td>3594065_17379</td>\n",
       "      <td>MLB Baseball</td>\n",
       "      <td>Arizona Diamondbacks at Los Angeles Dodgers</td>\n",
       "      <td>2017-09-07 02:10:00</td>\n",
       "      <td>NaN</td>\n",
       "      <td>NaN</td>\n",
       "      <td>Los Angeles Dodgers</td>\n",
       "      <td>Arizona Diamondbacks</td>\n",
       "      <td>NaN</td>\n",
       "      <td>NaN</td>\n",
       "      <td>Dodger Stadium</td>\n",
       "    </tr>\n",
       "    <tr>\n",
       "      <th>6336</th>\n",
       "      <td>3594070</td>\n",
       "      <td>2017-08-01</td>\n",
       "      <td>3594070_17379</td>\n",
       "      <td>MLB Baseball</td>\n",
       "      <td>Arizona Diamondbacks at Los Angeles Dodgers</td>\n",
       "      <td>2017-09-05 00:10:00</td>\n",
       "      <td>NaN</td>\n",
       "      <td>NaN</td>\n",
       "      <td>Los Angeles Dodgers</td>\n",
       "      <td>Arizona Diamondbacks</td>\n",
       "      <td>NaN</td>\n",
       "      <td>NaN</td>\n",
       "      <td>Dodger Stadium</td>\n",
       "    </tr>\n",
       "    <tr>\n",
       "      <th>6337</th>\n",
       "      <td>3798568</td>\n",
       "      <td>2017-08-01</td>\n",
       "      <td>3798568_17379</td>\n",
       "      <td>NaN</td>\n",
       "      <td>Cafe Tacuba with Gustavo Dudamel and Los Angel...</td>\n",
       "      <td>2017-10-16 02:30:00</td>\n",
       "      <td>NaN</td>\n",
       "      <td>NaN</td>\n",
       "      <td>Cafe Tacuba</td>\n",
       "      <td>Los Angeles Philharmonic</td>\n",
       "      <td>Gustavo Dudamel</td>\n",
       "      <td>NaN</td>\n",
       "      <td>Walt Disney Concert Hall</td>\n",
       "    </tr>\n",
       "    <tr>\n",
       "      <th>6338</th>\n",
       "      <td>3594078</td>\n",
       "      <td>2017-08-01</td>\n",
       "      <td>3594078_17379</td>\n",
       "      <td>MLB Baseball</td>\n",
       "      <td>Chicago White Sox at Los Angeles Dodgers</td>\n",
       "      <td>2017-08-17 02:10:00</td>\n",
       "      <td>NaN</td>\n",
       "      <td>NaN</td>\n",
       "      <td>Los Angeles Dodgers</td>\n",
       "      <td>Chicago White Sox</td>\n",
       "      <td>NaN</td>\n",
       "      <td>NaN</td>\n",
       "      <td>Dodger Stadium</td>\n",
       "    </tr>\n",
       "  </tbody>\n",
       "</table>\n",
       "</div>"
      ],
      "text/plain": [
       "      event_id listing_date event_listing_date_id      taxonomy  \\\n",
       "6334   3594068   2017-08-01         3594068_17379  MLB Baseball   \n",
       "6335   3594065   2017-08-01         3594065_17379  MLB Baseball   \n",
       "6336   3594070   2017-08-01         3594070_17379  MLB Baseball   \n",
       "6337   3798568   2017-08-01         3798568_17379           NaN   \n",
       "6338   3594078   2017-08-01         3594078_17379  MLB Baseball   \n",
       "\n",
       "                                            event_title      event_datetime  \\\n",
       "6334        Arizona Diamondbacks at Los Angeles Dodgers 2017-09-06 02:10:00   \n",
       "6335        Arizona Diamondbacks at Los Angeles Dodgers 2017-09-07 02:10:00   \n",
       "6336        Arizona Diamondbacks at Los Angeles Dodgers 2017-09-05 00:10:00   \n",
       "6337  Cafe Tacuba with Gustavo Dudamel and Los Angel... 2017-10-16 02:30:00   \n",
       "6338           Chicago White Sox at Los Angeles Dodgers 2017-08-17 02:10:00   \n",
       "\n",
       "      tickets_listed  mean_listing_price          performer_1  \\\n",
       "6334             NaN                 NaN  Los Angeles Dodgers   \n",
       "6335             NaN                 NaN  Los Angeles Dodgers   \n",
       "6336             NaN                 NaN  Los Angeles Dodgers   \n",
       "6337             NaN                 NaN          Cafe Tacuba   \n",
       "6338             NaN                 NaN  Los Angeles Dodgers   \n",
       "\n",
       "                   performer_2      performer_3 performer_4  \\\n",
       "6334      Arizona Diamondbacks              NaN         NaN   \n",
       "6335      Arizona Diamondbacks              NaN         NaN   \n",
       "6336      Arizona Diamondbacks              NaN         NaN   \n",
       "6337  Los Angeles Philharmonic  Gustavo Dudamel         NaN   \n",
       "6338         Chicago White Sox              NaN         NaN   \n",
       "\n",
       "                    venue_name  \n",
       "6334            Dodger Stadium  \n",
       "6335            Dodger Stadium  \n",
       "6336            Dodger Stadium  \n",
       "6337  Walt Disney Concert Hall  \n",
       "6338            Dodger Stadium  "
      ]
     },
     "execution_count": 62,
     "metadata": {},
     "output_type": "execute_result"
    }
   ],
   "source": [
    "holdout.head()"
   ]
  },
  {
   "cell_type": "code",
   "execution_count": 63,
   "metadata": {},
   "outputs": [
    {
     "data": {
      "text/plain": [
       "(2646, 13)"
      ]
     },
     "execution_count": 63,
     "metadata": {},
     "output_type": "execute_result"
    }
   ],
   "source": [
    "holdout.shape"
   ]
  },
  {
   "cell_type": "markdown",
   "metadata": {},
   "source": [
    "- holdout data has 2646 rows and 13 columns"
   ]
  },
  {
   "cell_type": "code",
   "execution_count": 64,
   "metadata": {},
   "outputs": [
    {
     "name": "stdout",
     "output_type": "stream",
     "text": [
      "<class 'pandas.core.frame.DataFrame'>\n",
      "Int64Index: 2646 entries, 6334 to 8979\n",
      "Data columns (total 13 columns):\n",
      "event_id                 2646 non-null int64\n",
      "listing_date             2646 non-null datetime64[ns]\n",
      "event_listing_date_id    2646 non-null object\n",
      "taxonomy                 2553 non-null object\n",
      "event_title              2646 non-null object\n",
      "event_datetime           2646 non-null datetime64[ns]\n",
      "tickets_listed           0 non-null float64\n",
      "mean_listing_price       0 non-null float64\n",
      "performer_1              2646 non-null object\n",
      "performer_2              1405 non-null object\n",
      "performer_3              125 non-null object\n",
      "performer_4              1 non-null object\n",
      "venue_name               2646 non-null object\n",
      "dtypes: datetime64[ns](2), float64(2), int64(1), object(8)\n",
      "memory usage: 289.4+ KB\n"
     ]
    }
   ],
   "source": [
    "holdout.info()"
   ]
  },
  {
   "cell_type": "markdown",
   "metadata": {},
   "source": [
    "- Looks like there are missing values further investigating on this."
   ]
  },
  {
   "cell_type": "code",
   "execution_count": 65,
   "metadata": {},
   "outputs": [
    {
     "data": {
      "text/plain": [
       "mean_listing_price       1.000000\n",
       "tickets_listed           1.000000\n",
       "performer_4              0.999622\n",
       "performer_3              0.952759\n",
       "performer_2              0.469010\n",
       "taxonomy                 0.035147\n",
       "venue_name               0.000000\n",
       "performer_1              0.000000\n",
       "event_datetime           0.000000\n",
       "event_title              0.000000\n",
       "event_listing_date_id    0.000000\n",
       "listing_date             0.000000\n",
       "event_id                 0.000000\n",
       "dtype: float64"
      ]
     },
     "execution_count": 65,
     "metadata": {},
     "output_type": "execute_result"
    }
   ],
   "source": [
    "(holdout.isnull().sum() / len(holdout)).sort_values(ascending=False)[:14]"
   ]
  },
  {
   "cell_type": "markdown",
   "metadata": {},
   "source": [
    "- More than 95% values are missing from performer_3 and performer_4 hence removing both columns from holdout.\n",
    "- Cleaning data by removing null values from performer_2 and taxonomy."
   ]
  },
  {
   "cell_type": "code",
   "execution_count": 66,
   "metadata": {},
   "outputs": [
    {
     "data": {
      "text/plain": [
       "0"
      ]
     },
     "execution_count": 66,
     "metadata": {},
     "output_type": "execute_result"
    }
   ],
   "source": [
    "holdout.duplicated().sum()"
   ]
  },
  {
   "cell_type": "markdown",
   "metadata": {},
   "source": [
    "- There are no duplicate rows "
   ]
  },
  {
   "cell_type": "code",
   "execution_count": 67,
   "metadata": {},
   "outputs": [
    {
     "data": {
      "text/plain": [
       "(Timestamp('2017-08-02 02:05:00'), Timestamp('2018-06-03 21:00:00'))"
      ]
     },
     "execution_count": 67,
     "metadata": {},
     "output_type": "execute_result"
    }
   ],
   "source": [
    "holdout.event_datetime.min(), holdout.event_datetime.max()"
   ]
  },
  {
   "cell_type": "markdown",
   "metadata": {},
   "source": [
    "- Event dates for the holdout sample are from August 02,2017 to June 03, 2018."
   ]
  },
  {
   "cell_type": "code",
   "execution_count": 68,
   "metadata": {},
   "outputs": [
    {
     "data": {
      "text/plain": [
       "(Timestamp('2017-08-01 00:00:00'), Timestamp('2017-08-31 00:00:00'))"
      ]
     },
     "execution_count": 68,
     "metadata": {},
     "output_type": "execute_result"
    }
   ],
   "source": [
    "holdout.listing_date.min(), holdout.listing_date.max()"
   ]
  },
  {
   "cell_type": "markdown",
   "metadata": {},
   "source": [
    "- Listing dates for the holdout sample are from August 01,2017 to Augutst 31, 2017."
   ]
  },
  {
   "cell_type": "markdown",
   "metadata": {},
   "source": [
    "### Preparing data for the Predictions"
   ]
  },
  {
   "cell_type": "code",
   "execution_count": 69,
   "metadata": {},
   "outputs": [
    {
     "name": "stderr",
     "output_type": "stream",
     "text": [
      "C:\\ProgramData\\Anaconda3\\lib\\site-packages\\ipykernel_launcher.py:3: SettingWithCopyWarning: \n",
      "A value is trying to be set on a copy of a slice from a DataFrame.\n",
      "Try using .loc[row_indexer,col_indexer] = value instead\n",
      "\n",
      "See the caveats in the documentation: http://pandas.pydata.org/pandas-docs/stable/indexing.html#indexing-view-versus-copy\n",
      "  This is separate from the ipykernel package so we can avoid doing imports until\n"
     ]
    },
    {
     "data": {
      "text/html": [
       "<div>\n",
       "<style scoped>\n",
       "    .dataframe tbody tr th:only-of-type {\n",
       "        vertical-align: middle;\n",
       "    }\n",
       "\n",
       "    .dataframe tbody tr th {\n",
       "        vertical-align: top;\n",
       "    }\n",
       "\n",
       "    .dataframe thead th {\n",
       "        text-align: right;\n",
       "    }\n",
       "</style>\n",
       "<table border=\"1\" class=\"dataframe\">\n",
       "  <thead>\n",
       "    <tr style=\"text-align: right;\">\n",
       "      <th></th>\n",
       "      <th>event_id</th>\n",
       "      <th>listing_date</th>\n",
       "      <th>event_listing_date_id</th>\n",
       "      <th>taxonomy</th>\n",
       "      <th>event_title</th>\n",
       "      <th>event_datetime</th>\n",
       "      <th>tickets_listed</th>\n",
       "      <th>mean_listing_price</th>\n",
       "      <th>performer_1</th>\n",
       "      <th>performer_2</th>\n",
       "      <th>performer_3</th>\n",
       "      <th>performer_4</th>\n",
       "      <th>venue_name</th>\n",
       "      <th>event_min</th>\n",
       "    </tr>\n",
       "  </thead>\n",
       "  <tbody>\n",
       "    <tr>\n",
       "      <th>6334</th>\n",
       "      <td>3594068</td>\n",
       "      <td>2017-08-01</td>\n",
       "      <td>3594068_17379</td>\n",
       "      <td>MLB Baseball</td>\n",
       "      <td>Arizona Diamondbacks at Los Angeles Dodgers</td>\n",
       "      <td>2017-09-06 02:10:00</td>\n",
       "      <td>NaN</td>\n",
       "      <td>NaN</td>\n",
       "      <td>Los Angeles Dodgers</td>\n",
       "      <td>Arizona Diamondbacks</td>\n",
       "      <td>NaN</td>\n",
       "      <td>NaN</td>\n",
       "      <td>Dodger Stadium</td>\n",
       "      <td>130</td>\n",
       "    </tr>\n",
       "  </tbody>\n",
       "</table>\n",
       "</div>"
      ],
      "text/plain": [
       "      event_id listing_date event_listing_date_id      taxonomy  \\\n",
       "6334   3594068   2017-08-01         3594068_17379  MLB Baseball   \n",
       "\n",
       "                                      event_title      event_datetime  \\\n",
       "6334  Arizona Diamondbacks at Los Angeles Dodgers 2017-09-06 02:10:00   \n",
       "\n",
       "      tickets_listed  mean_listing_price          performer_1  \\\n",
       "6334             NaN                 NaN  Los Angeles Dodgers   \n",
       "\n",
       "               performer_2 performer_3 performer_4      venue_name  event_min  \n",
       "6334  Arizona Diamondbacks         NaN         NaN  Dodger Stadium        130  "
      ]
     },
     "execution_count": 69,
     "metadata": {},
     "output_type": "execute_result"
    }
   ],
   "source": [
    "# Calculate event time in minutes\n",
    "time = pd.DatetimeIndex(holdout['event_datetime']);\n",
    "holdout['event_min']=time.hour * 60 + time.minute\n",
    "holdout.head(1)"
   ]
  },
  {
   "cell_type": "code",
   "execution_count": 70,
   "metadata": {},
   "outputs": [
    {
     "name": "stderr",
     "output_type": "stream",
     "text": [
      "C:\\ProgramData\\Anaconda3\\lib\\site-packages\\ipykernel_launcher.py:12: SettingWithCopyWarning: \n",
      "A value is trying to be set on a copy of a slice from a DataFrame.\n",
      "Try using .loc[row_indexer,col_indexer] = value instead\n",
      "\n",
      "See the caveats in the documentation: http://pandas.pydata.org/pandas-docs/stable/indexing.html#indexing-view-versus-copy\n",
      "  if sys.path[0] == '':\n"
     ]
    },
    {
     "data": {
      "text/html": [
       "<div>\n",
       "<style scoped>\n",
       "    .dataframe tbody tr th:only-of-type {\n",
       "        vertical-align: middle;\n",
       "    }\n",
       "\n",
       "    .dataframe tbody tr th {\n",
       "        vertical-align: top;\n",
       "    }\n",
       "\n",
       "    .dataframe thead th {\n",
       "        text-align: right;\n",
       "    }\n",
       "</style>\n",
       "<table border=\"1\" class=\"dataframe\">\n",
       "  <thead>\n",
       "    <tr style=\"text-align: right;\">\n",
       "      <th></th>\n",
       "      <th>event_id</th>\n",
       "      <th>listing_date</th>\n",
       "      <th>event_listing_date_id</th>\n",
       "      <th>taxonomy</th>\n",
       "      <th>event_title</th>\n",
       "      <th>event_datetime</th>\n",
       "      <th>tickets_listed</th>\n",
       "      <th>mean_listing_price</th>\n",
       "      <th>performer_1</th>\n",
       "      <th>performer_2</th>\n",
       "      <th>performer_3</th>\n",
       "      <th>performer_4</th>\n",
       "      <th>venue_name</th>\n",
       "      <th>event_min</th>\n",
       "      <th>performer</th>\n",
       "    </tr>\n",
       "  </thead>\n",
       "  <tbody>\n",
       "    <tr>\n",
       "      <th>6334</th>\n",
       "      <td>3594068</td>\n",
       "      <td>2017-08-01</td>\n",
       "      <td>3594068_17379</td>\n",
       "      <td>MLB Baseball</td>\n",
       "      <td>Arizona Diamondbacks at Los Angeles Dodgers</td>\n",
       "      <td>2017-09-06 02:10:00</td>\n",
       "      <td>NaN</td>\n",
       "      <td>NaN</td>\n",
       "      <td>Los Angeles Dodgers</td>\n",
       "      <td>Arizona Diamondbacks</td>\n",
       "      <td>NaN</td>\n",
       "      <td>NaN</td>\n",
       "      <td>Dodger Stadium</td>\n",
       "      <td>130</td>\n",
       "      <td>2</td>\n",
       "    </tr>\n",
       "  </tbody>\n",
       "</table>\n",
       "</div>"
      ],
      "text/plain": [
       "      event_id listing_date event_listing_date_id      taxonomy  \\\n",
       "6334   3594068   2017-08-01         3594068_17379  MLB Baseball   \n",
       "\n",
       "                                      event_title      event_datetime  \\\n",
       "6334  Arizona Diamondbacks at Los Angeles Dodgers 2017-09-06 02:10:00   \n",
       "\n",
       "      tickets_listed  mean_listing_price          performer_1  \\\n",
       "6334             NaN                 NaN  Los Angeles Dodgers   \n",
       "\n",
       "               performer_2 performer_3 performer_4      venue_name  event_min  \\\n",
       "6334  Arizona Diamondbacks         NaN         NaN  Dodger Stadium        130   \n",
       "\n",
       "      performer  \n",
       "6334          2  "
      ]
     },
     "execution_count": 70,
     "metadata": {},
     "output_type": "execute_result"
    }
   ],
   "source": [
    "# Including total performers per day.\n",
    "for index, row in holdout.iterrows():\n",
    "    performr =0\n",
    "    if row.notnull()['performer_1']:\n",
    "        performr = 1\n",
    "    if row.notnull()['performer_2']:\n",
    "        performr+=1\n",
    "    if row.notnull()['performer_3']:\n",
    "        performr+=1\n",
    "    if row.notnull()['performer_4']:\n",
    "        performr+=1\n",
    "    holdout['performer']=performr     \n",
    "holdout.head(1)"
   ]
  },
  {
   "cell_type": "code",
   "execution_count": 71,
   "metadata": {},
   "outputs": [
    {
     "name": "stderr",
     "output_type": "stream",
     "text": [
      "C:\\ProgramData\\Anaconda3\\lib\\site-packages\\ipykernel_launcher.py:2: SettingWithCopyWarning: \n",
      "A value is trying to be set on a copy of a slice from a DataFrame.\n",
      "Try using .loc[row_indexer,col_indexer] = value instead\n",
      "\n",
      "See the caveats in the documentation: http://pandas.pydata.org/pandas-docs/stable/indexing.html#indexing-view-versus-copy\n",
      "  \n",
      "C:\\ProgramData\\Anaconda3\\lib\\site-packages\\ipykernel_launcher.py:3: SettingWithCopyWarning: \n",
      "A value is trying to be set on a copy of a slice from a DataFrame.\n",
      "Try using .loc[row_indexer,col_indexer] = value instead\n",
      "\n",
      "See the caveats in the documentation: http://pandas.pydata.org/pandas-docs/stable/indexing.html#indexing-view-versus-copy\n",
      "  This is separate from the ipykernel package so we can avoid doing imports until\n"
     ]
    },
    {
     "data": {
      "text/html": [
       "<div>\n",
       "<style scoped>\n",
       "    .dataframe tbody tr th:only-of-type {\n",
       "        vertical-align: middle;\n",
       "    }\n",
       "\n",
       "    .dataframe tbody tr th {\n",
       "        vertical-align: top;\n",
       "    }\n",
       "\n",
       "    .dataframe thead th {\n",
       "        text-align: right;\n",
       "    }\n",
       "</style>\n",
       "<table border=\"1\" class=\"dataframe\">\n",
       "  <thead>\n",
       "    <tr style=\"text-align: right;\">\n",
       "      <th></th>\n",
       "      <th>event_id</th>\n",
       "      <th>listing_date</th>\n",
       "      <th>event_listing_date_id</th>\n",
       "      <th>taxonomy</th>\n",
       "      <th>event_title</th>\n",
       "      <th>event_datetime</th>\n",
       "      <th>tickets_listed</th>\n",
       "      <th>mean_listing_price</th>\n",
       "      <th>performer_1</th>\n",
       "      <th>performer_2</th>\n",
       "      <th>performer_3</th>\n",
       "      <th>performer_4</th>\n",
       "      <th>venue_name</th>\n",
       "      <th>event_min</th>\n",
       "      <th>performer</th>\n",
       "      <th>listing_week</th>\n",
       "      <th>event_week</th>\n",
       "    </tr>\n",
       "  </thead>\n",
       "  <tbody>\n",
       "    <tr>\n",
       "      <th>6334</th>\n",
       "      <td>3594068</td>\n",
       "      <td>2017-08-01</td>\n",
       "      <td>3594068_17379</td>\n",
       "      <td>MLB Baseball</td>\n",
       "      <td>Arizona Diamondbacks at Los Angeles Dodgers</td>\n",
       "      <td>2017-09-06 02:10:00</td>\n",
       "      <td>NaN</td>\n",
       "      <td>NaN</td>\n",
       "      <td>Los Angeles Dodgers</td>\n",
       "      <td>Arizona Diamondbacks</td>\n",
       "      <td>NaN</td>\n",
       "      <td>NaN</td>\n",
       "      <td>Dodger Stadium</td>\n",
       "      <td>130</td>\n",
       "      <td>2</td>\n",
       "      <td>31</td>\n",
       "      <td>36</td>\n",
       "    </tr>\n",
       "  </tbody>\n",
       "</table>\n",
       "</div>"
      ],
      "text/plain": [
       "      event_id listing_date event_listing_date_id      taxonomy  \\\n",
       "6334   3594068   2017-08-01         3594068_17379  MLB Baseball   \n",
       "\n",
       "                                      event_title      event_datetime  \\\n",
       "6334  Arizona Diamondbacks at Los Angeles Dodgers 2017-09-06 02:10:00   \n",
       "\n",
       "      tickets_listed  mean_listing_price          performer_1  \\\n",
       "6334             NaN                 NaN  Los Angeles Dodgers   \n",
       "\n",
       "               performer_2 performer_3 performer_4      venue_name  event_min  \\\n",
       "6334  Arizona Diamondbacks         NaN         NaN  Dodger Stadium        130   \n",
       "\n",
       "      performer  listing_week  event_week  \n",
       "6334          2            31          36  "
      ]
     },
     "execution_count": 71,
     "metadata": {},
     "output_type": "execute_result"
    }
   ],
   "source": [
    "# Adding week of the year for listing_week and event_week\n",
    "holdout['listing_week'] = holdout['listing_date'].dt.week\n",
    "holdout['event_week'] = holdout['event_datetime'].dt.week\n",
    "holdout.head(1)"
   ]
  },
  {
   "cell_type": "code",
   "execution_count": 72,
   "metadata": {},
   "outputs": [
    {
     "data": {
      "text/html": [
       "<div>\n",
       "<style scoped>\n",
       "    .dataframe tbody tr th:only-of-type {\n",
       "        vertical-align: middle;\n",
       "    }\n",
       "\n",
       "    .dataframe tbody tr th {\n",
       "        vertical-align: top;\n",
       "    }\n",
       "\n",
       "    .dataframe thead th {\n",
       "        text-align: right;\n",
       "    }\n",
       "</style>\n",
       "<table border=\"1\" class=\"dataframe\">\n",
       "  <thead>\n",
       "    <tr style=\"text-align: right;\">\n",
       "      <th></th>\n",
       "      <th>event_min</th>\n",
       "      <th>performer</th>\n",
       "      <th>listing_week</th>\n",
       "      <th>event_week</th>\n",
       "      <th>taxonomy_Classical Orchestral</th>\n",
       "      <th>taxonomy_MLB Baseball</th>\n",
       "      <th>taxonomy_Minor League Baseball</th>\n",
       "      <th>performer_1_Cafe Tacuba</th>\n",
       "      <th>performer_1_Los Angeles Dodgers</th>\n",
       "      <th>performer_1_Los Angeles Philharmonic</th>\n",
       "      <th>...</th>\n",
       "      <th>performer_2_Tacoma Rainiers</th>\n",
       "      <th>performer_2_The Phantom of the Opera</th>\n",
       "      <th>performer_3_Chicago Symphony Orchestra</th>\n",
       "      <th>performer_3_Gustavo Dudamel</th>\n",
       "      <th>performer_3_Hilary Hahn</th>\n",
       "      <th>performer_3_Rhiannon Giddens</th>\n",
       "      <th>performer_4_Los Angeles Children's Chorus</th>\n",
       "      <th>venue_name_Chickasaw Bricktown Ballpark</th>\n",
       "      <th>venue_name_Dodger Stadium</th>\n",
       "      <th>venue_name_Walt Disney Concert Hall</th>\n",
       "    </tr>\n",
       "  </thead>\n",
       "  <tbody>\n",
       "    <tr>\n",
       "      <th>8975</th>\n",
       "      <td>130</td>\n",
       "      <td>2</td>\n",
       "      <td>35</td>\n",
       "      <td>39</td>\n",
       "      <td>0</td>\n",
       "      <td>1</td>\n",
       "      <td>0</td>\n",
       "      <td>0</td>\n",
       "      <td>1</td>\n",
       "      <td>0</td>\n",
       "      <td>...</td>\n",
       "      <td>0</td>\n",
       "      <td>0</td>\n",
       "      <td>0</td>\n",
       "      <td>0</td>\n",
       "      <td>0</td>\n",
       "      <td>0</td>\n",
       "      <td>0</td>\n",
       "      <td>0</td>\n",
       "      <td>1</td>\n",
       "      <td>0</td>\n",
       "    </tr>\n",
       "    <tr>\n",
       "      <th>8976</th>\n",
       "      <td>128</td>\n",
       "      <td>2</td>\n",
       "      <td>35</td>\n",
       "      <td>39</td>\n",
       "      <td>0</td>\n",
       "      <td>1</td>\n",
       "      <td>0</td>\n",
       "      <td>0</td>\n",
       "      <td>1</td>\n",
       "      <td>0</td>\n",
       "      <td>...</td>\n",
       "      <td>0</td>\n",
       "      <td>0</td>\n",
       "      <td>0</td>\n",
       "      <td>0</td>\n",
       "      <td>0</td>\n",
       "      <td>0</td>\n",
       "      <td>0</td>\n",
       "      <td>0</td>\n",
       "      <td>1</td>\n",
       "      <td>0</td>\n",
       "    </tr>\n",
       "    <tr>\n",
       "      <th>8977</th>\n",
       "      <td>70</td>\n",
       "      <td>2</td>\n",
       "      <td>35</td>\n",
       "      <td>38</td>\n",
       "      <td>0</td>\n",
       "      <td>1</td>\n",
       "      <td>0</td>\n",
       "      <td>0</td>\n",
       "      <td>1</td>\n",
       "      <td>0</td>\n",
       "      <td>...</td>\n",
       "      <td>0</td>\n",
       "      <td>0</td>\n",
       "      <td>0</td>\n",
       "      <td>0</td>\n",
       "      <td>0</td>\n",
       "      <td>0</td>\n",
       "      <td>0</td>\n",
       "      <td>0</td>\n",
       "      <td>1</td>\n",
       "      <td>0</td>\n",
       "    </tr>\n",
       "    <tr>\n",
       "      <th>8978</th>\n",
       "      <td>130</td>\n",
       "      <td>2</td>\n",
       "      <td>35</td>\n",
       "      <td>38</td>\n",
       "      <td>0</td>\n",
       "      <td>1</td>\n",
       "      <td>0</td>\n",
       "      <td>0</td>\n",
       "      <td>1</td>\n",
       "      <td>0</td>\n",
       "      <td>...</td>\n",
       "      <td>0</td>\n",
       "      <td>0</td>\n",
       "      <td>0</td>\n",
       "      <td>0</td>\n",
       "      <td>0</td>\n",
       "      <td>0</td>\n",
       "      <td>0</td>\n",
       "      <td>0</td>\n",
       "      <td>1</td>\n",
       "      <td>0</td>\n",
       "    </tr>\n",
       "    <tr>\n",
       "      <th>8979</th>\n",
       "      <td>1210</td>\n",
       "      <td>2</td>\n",
       "      <td>35</td>\n",
       "      <td>38</td>\n",
       "      <td>0</td>\n",
       "      <td>1</td>\n",
       "      <td>0</td>\n",
       "      <td>0</td>\n",
       "      <td>1</td>\n",
       "      <td>0</td>\n",
       "      <td>...</td>\n",
       "      <td>0</td>\n",
       "      <td>0</td>\n",
       "      <td>0</td>\n",
       "      <td>0</td>\n",
       "      <td>0</td>\n",
       "      <td>0</td>\n",
       "      <td>0</td>\n",
       "      <td>0</td>\n",
       "      <td>1</td>\n",
       "      <td>0</td>\n",
       "    </tr>\n",
       "  </tbody>\n",
       "</table>\n",
       "<p>5 rows × 41 columns</p>\n",
       "</div>"
      ],
      "text/plain": [
       "      event_min  performer  listing_week  event_week  \\\n",
       "8975        130          2            35          39   \n",
       "8976        128          2            35          39   \n",
       "8977         70          2            35          38   \n",
       "8978        130          2            35          38   \n",
       "8979       1210          2            35          38   \n",
       "\n",
       "      taxonomy_Classical Orchestral  taxonomy_MLB Baseball  \\\n",
       "8975                              0                      1   \n",
       "8976                              0                      1   \n",
       "8977                              0                      1   \n",
       "8978                              0                      1   \n",
       "8979                              0                      1   \n",
       "\n",
       "      taxonomy_Minor League Baseball  performer_1_Cafe Tacuba  \\\n",
       "8975                               0                        0   \n",
       "8976                               0                        0   \n",
       "8977                               0                        0   \n",
       "8978                               0                        0   \n",
       "8979                               0                        0   \n",
       "\n",
       "      performer_1_Los Angeles Dodgers  performer_1_Los Angeles Philharmonic  \\\n",
       "8975                                1                                     0   \n",
       "8976                                1                                     0   \n",
       "8977                                1                                     0   \n",
       "8978                                1                                     0   \n",
       "8979                                1                                     0   \n",
       "\n",
       "                     ...                   performer_2_Tacoma Rainiers  \\\n",
       "8975                 ...                                             0   \n",
       "8976                 ...                                             0   \n",
       "8977                 ...                                             0   \n",
       "8978                 ...                                             0   \n",
       "8979                 ...                                             0   \n",
       "\n",
       "      performer_2_The Phantom of the Opera  \\\n",
       "8975                                     0   \n",
       "8976                                     0   \n",
       "8977                                     0   \n",
       "8978                                     0   \n",
       "8979                                     0   \n",
       "\n",
       "      performer_3_Chicago Symphony Orchestra  performer_3_Gustavo Dudamel  \\\n",
       "8975                                       0                            0   \n",
       "8976                                       0                            0   \n",
       "8977                                       0                            0   \n",
       "8978                                       0                            0   \n",
       "8979                                       0                            0   \n",
       "\n",
       "      performer_3_Hilary Hahn  performer_3_Rhiannon Giddens  \\\n",
       "8975                        0                             0   \n",
       "8976                        0                             0   \n",
       "8977                        0                             0   \n",
       "8978                        0                             0   \n",
       "8979                        0                             0   \n",
       "\n",
       "      performer_4_Los Angeles Children's Chorus  \\\n",
       "8975                                          0   \n",
       "8976                                          0   \n",
       "8977                                          0   \n",
       "8978                                          0   \n",
       "8979                                          0   \n",
       "\n",
       "      venue_name_Chickasaw Bricktown Ballpark  venue_name_Dodger Stadium  \\\n",
       "8975                                        0                          1   \n",
       "8976                                        0                          1   \n",
       "8977                                        0                          1   \n",
       "8978                                        0                          1   \n",
       "8979                                        0                          1   \n",
       "\n",
       "      venue_name_Walt Disney Concert Hall  \n",
       "8975                                    0  \n",
       "8976                                    0  \n",
       "8977                                    0  \n",
       "8978                                    0  \n",
       "8979                                    0  \n",
       "\n",
       "[5 rows x 41 columns]"
      ]
     },
     "execution_count": 72,
     "metadata": {},
     "output_type": "execute_result"
    }
   ],
   "source": [
    "# Creating dummy values for categorical variables\n",
    "X_hold= holdout[['event_min','performer','listing_week','event_week']]\n",
    "categorical_var = ['taxonomy','performer_1','performer_2','performer_3','performer_4','venue_name']\n",
    "for i in range(len(categorical_var)):\n",
    "    n = pd.get_dummies(holdout[categorical_var[i]], prefix=categorical_var[i])\n",
    "    X_hold = pd.concat([X_hold, n], axis=1)\n",
    "    \n",
    "X_hold.tail()"
   ]
  },
  {
   "cell_type": "code",
   "execution_count": 73,
   "metadata": {},
   "outputs": [
    {
     "data": {
      "text/plain": [
       "(2646, 41)"
      ]
     },
     "execution_count": 73,
     "metadata": {},
     "output_type": "execute_result"
    }
   ],
   "source": [
    "X_hold.shape"
   ]
  },
  {
   "cell_type": "markdown",
   "metadata": {},
   "source": [
    "- X_hold has 2646 rows and 41 columns"
   ]
  },
  {
   "cell_type": "markdown",
   "metadata": {},
   "source": [
    "#### Creating common features for trainig and holdout sample"
   ]
  },
  {
   "cell_type": "code",
   "execution_count": 76,
   "metadata": {
    "collapsed": true
   },
   "outputs": [
    {
     "data": {
      "text/plain": [
       "['event_min',\n",
       " 'performer',\n",
       " 'listing_week',\n",
       " 'event_week',\n",
       " 'taxonomy_Classical Orchestral',\n",
       " 'taxonomy_MLB Baseball',\n",
       " 'taxonomy_Minor League Baseball',\n",
       " 'performer_1_Los Angeles Dodgers',\n",
       " 'performer_1_Los Angeles Philharmonic',\n",
       " 'performer_1_New Orleans Baby Cakes',\n",
       " 'performer_1_Oklahoma City Dodgers',\n",
       " 'performer_1_Round Rock Express',\n",
       " 'performer_2_Arizona Diamondbacks',\n",
       " 'performer_2_Chicago White Sox',\n",
       " 'performer_2_Colorado Rockies',\n",
       " 'performer_2_Gil Shaham',\n",
       " 'performer_2_Gustavo Dudamel',\n",
       " 'performer_2_Hilary Hahn',\n",
       " 'performer_2_Israel Philharmonic Orchestra',\n",
       " 'performer_2_Los Angeles Philharmonic',\n",
       " 'performer_2_Milwaukee Brewers',\n",
       " 'performer_2_Oklahoma City Dodgers',\n",
       " 'performer_2_Omaha Storm Chasers',\n",
       " 'performer_2_Riccardo Muti',\n",
       " 'performer_2_San Diego Padres',\n",
       " 'performer_2_San Francisco Giants',\n",
       " 'performer_2_Tacoma Rainiers',\n",
       " 'performer_3_Chicago Symphony Orchestra',\n",
       " 'performer_3_Gustavo Dudamel',\n",
       " 'venue_name_Chickasaw Bricktown Ballpark',\n",
       " 'venue_name_Dodger Stadium',\n",
       " 'venue_name_Walt Disney Concert Hall']"
      ]
     },
     "execution_count": 76,
     "metadata": {},
     "output_type": "execute_result"
    }
   ],
   "source": [
    "lst_meanlistinprice =[]\n",
    "dff = pd.DataFrame()\n",
    "for i in range(len(feature_meanlistinprice)):\n",
    "    if X_hold.columns.contains(feature_meanlistinprice[i]):\n",
    "        lst_meanlistinprice.append(feature_meanlistinprice[i])\n",
    "        \n",
    "lst_meanlistinprice"
   ]
  },
  {
   "cell_type": "markdown",
   "metadata": {},
   "source": [
    "####  Mean Listing Price Predictions using Random Forest Regressor"
   ]
  },
  {
   "cell_type": "code",
   "execution_count": 77,
   "metadata": {},
   "outputs": [],
   "source": [
    "train_x=X[lst_meanlistinprice]\n",
    "train_y=data['mean_listing_price']\n",
    "X_train, X_test, y_train, y_test  = train_test_split(train_x, train_y, test_size = 0.2, random_state = 0)"
   ]
  },
  {
   "cell_type": "code",
   "execution_count": 79,
   "metadata": {},
   "outputs": [
    {
     "data": {
      "text/plain": [
       "((3372, 32), (843, 32), (3372,), (843,))"
      ]
     },
     "execution_count": 79,
     "metadata": {},
     "output_type": "execute_result"
    }
   ],
   "source": [
    "X_train.shape, X_test.shape, y_train.shape, y_test.shape"
   ]
  },
  {
   "cell_type": "code",
   "execution_count": 80,
   "metadata": {},
   "outputs": [
    {
     "data": {
      "text/plain": [
       "RandomForestRegressor(bootstrap=True, criterion='mae', max_depth=None,\n",
       "           max_features='auto', max_leaf_nodes=None,\n",
       "           min_impurity_decrease=0.0, min_impurity_split=None,\n",
       "           min_samples_leaf=3, min_samples_split=9,\n",
       "           min_weight_fraction_leaf=0.0, n_estimators=200, n_jobs=-1,\n",
       "           oob_score=False, random_state=3, verbose=0, warm_start=False)"
      ]
     },
     "execution_count": 80,
     "metadata": {},
     "output_type": "execute_result"
    }
   ],
   "source": [
    "rf = RandomForestRegressor(n_estimators=200, \n",
    "                               min_samples_leaf =3,\n",
    "                               min_samples_split =9,\n",
    "                               criterion='mae', \n",
    "                               random_state=3, \n",
    "                               n_jobs=-1)\n",
    "rf.fit(X_train, y_train)"
   ]
  },
  {
   "cell_type": "code",
   "execution_count": 81,
   "metadata": {},
   "outputs": [
    {
     "name": "stdout",
     "output_type": "stream",
     "text": [
      "Mean Listing Price Validations using Random Forest Regressor\n",
      "Train r2 score:  0.971567532651135\n",
      "Test r2 score:  0.9473444110085042\n",
      "Root Mean Squared Error: 29.0627\n",
      "Mean Absolute Error: 8.4927\n"
     ]
    }
   ],
   "source": [
    "# Calculating R2 value\n",
    "y_pred = rf.predict(X_test)\n",
    "y_train_pred = rf.predict(X_train)\n",
    "print('Mean Listing Price Validations using Random Forest Regressor')\n",
    "print('Train r2 score: ', r2_score(y_train_pred, y_train))\n",
    "print('Test r2 score: ', r2_score(y_pred, y_test))\n",
    "\n",
    "# Calculate root mean squared error\n",
    "rf_mse = mean_squared_error(y_pred, y_test)\n",
    "rf_rmse = np.sqrt(rf_mse)\n",
    "print('Root Mean Squared Error: %.4f' % rf_rmse)\n",
    "\n",
    "# Calculate mean_absolute_error\n",
    "rf_mae = mean_absolute_error(y_pred, y_test)\n",
    "print('Mean Absolute Error: %.4f' % rf_mae)"
   ]
  },
  {
   "cell_type": "code",
   "execution_count": 82,
   "metadata": {},
   "outputs": [
    {
     "data": {
      "text/plain": [
       "(790, 45, 5)"
      ]
     },
     "execution_count": 82,
     "metadata": {},
     "output_type": "execute_result"
    }
   ],
   "source": [
    "less200=[]\n",
    "btw200_700=[]\n",
    "great700=[]\n",
    "y_pred = y_pred.astype(int)\n",
    "\n",
    "for i in range(len(y_pred)):\n",
    "    if (y_pred[i] < 150):\n",
    "        less200.append(y_pred[i])\n",
    "    if ((y_pred[i] > 150) & (y_pred[i] < 710)):\n",
    "        btw200_700.append(y_pred[i])\n",
    "    if (y_pred[i] > 710):\n",
    "        great700.append(y_pred[i])     \n",
    "       \n",
    "    \n",
    "len(less200), len(btw200_700), len(great700)     \n"
   ]
  },
  {
   "cell_type": "code",
   "execution_count": 84,
   "metadata": {},
   "outputs": [
    {
     "data": {
      "text/plain": [
       "(790, 45, 5)"
      ]
     },
     "execution_count": 84,
     "metadata": {},
     "output_type": "execute_result"
    }
   ],
   "source": [
    "lesstest200=[]\n",
    "btwtest200_700=[]\n",
    "greattest700=[]\n",
    "y_test = y_test.astype(int)\n",
    "y_test= y_test.values\n",
    "for i in range(len(y_test)):\n",
    "    if (y_test[i] < 150):\n",
    "        lesstest200.append(y_test[i])\n",
    "    if ((y_test[i] > 150) & (y_test[i] < 750)):\n",
    "        btwtest200_700.append(y_test[i])\n",
    "    if (y_test[i] > 800):\n",
    "        greattest700.append(y_test[i])     \n",
    "       \n",
    "    \n",
    "len(lesstest200), len(btwtest200_700), len(greattest700)   "
   ]
  },
  {
   "cell_type": "code",
   "execution_count": 85,
   "metadata": {},
   "outputs": [
    {
     "name": "stdout",
     "output_type": "stream",
     "text": [
      "Mean Absolute Error for the price less than $150: 4.9354\n",
      "Mean Absolute Error for the price between $150 and $700: 117.2222\n",
      "Mean Absolute Error for the price greater than $700: 69.2000\n"
     ]
    }
   ],
   "source": [
    "rf_mae_l7 = mean_absolute_error(less200, lesstest200)\n",
    "rf_mae_b2to7 = mean_absolute_error(btw200_700, btwtest200_700)\n",
    "rf_mae_test800 = mean_absolute_error(great700, greattest700)\n",
    "\n",
    "\n",
    "print('Mean Absolute Error for the price less than $150: %.4f' % rf_mae_l7)\n",
    "print('Mean Absolute Error for the price between $150 and $700: %.4f' % rf_mae_b2to7)\n",
    "print('Mean Absolute Error for the price greater than $700: %.4f' % rf_mae_test800)"
   ]
  },
  {
   "cell_type": "code",
   "execution_count": 86,
   "metadata": {},
   "outputs": [
    {
     "data": {
      "text/plain": [
       "790"
      ]
     },
     "execution_count": 86,
     "metadata": {},
     "output_type": "execute_result"
    }
   ],
   "source": [
    "mpae200=[]\n",
    "for i in range(len(less200)):\n",
    "    mpae200.append(abs(((lesstest200[i] - less200[i]) / (lesstest200[i])) * 100))\n",
    "    \n",
    "len(mpae200)"
   ]
  },
  {
   "cell_type": "code",
   "execution_count": 87,
   "metadata": {},
   "outputs": [
    {
     "data": {
      "text/plain": [
       "45"
      ]
     },
     "execution_count": 87,
     "metadata": {},
     "output_type": "execute_result"
    }
   ],
   "source": [
    "mpae200n700=[]\n",
    "for i in range(len(btw200_700)):\n",
    "    mpae200n700.append(abs(((btwtest200_700[i] - btw200_700[i]) / (btwtest200_700[i])) * 100))\n",
    "    \n",
    "len(mpae200n700)"
   ]
  },
  {
   "cell_type": "code",
   "execution_count": 88,
   "metadata": {},
   "outputs": [
    {
     "data": {
      "text/plain": [
       "5"
      ]
     },
     "execution_count": 88,
     "metadata": {},
     "output_type": "execute_result"
    }
   ],
   "source": [
    "mpae700=[]\n",
    "for i in range(len(great700)):\n",
    "    mpae700.append(abs(((greattest700[i] - great700[i]) / (greattest700[i])) * 100))\n",
    "    \n",
    "len(mpae700)\n"
   ]
  },
  {
   "cell_type": "code",
   "execution_count": 89,
   "metadata": {},
   "outputs": [
    {
     "name": "stdout",
     "output_type": "stream",
     "text": [
      "Mean Percent Absolute Error for the price less than $150: 11.2315\n",
      "Mean Percent Absolute Error for the price between $150 and $700: 28.2719\n",
      "Mean Percent Absolute Error for the price greater than $700: 8.3232\n"
     ]
    }
   ],
   "source": [
    "print('Mean Percent Absolute Error for the price less than $150: %.4f' % (sum(mpae200)/len(mpae200)))\n",
    "print('Mean Percent Absolute Error for the price between $150 and $700: %.4f' % (sum(mpae200n700)/len(mpae200n700)))\n",
    "print('Mean Percent Absolute Error for the price greater than $700: %.4f' % (sum(mpae700)/len(mpae700)))"
   ]
  },
  {
   "cell_type": "code",
   "execution_count": null,
   "metadata": {},
   "outputs": [],
   "source": []
  },
  {
   "cell_type": "markdown",
   "metadata": {},
   "source": [
    "#### Predicting mean listing price"
   ]
  },
  {
   "cell_type": "code",
   "execution_count": 90,
   "metadata": {},
   "outputs": [],
   "source": [
    "dX_hold = X_hold[lst_meanlistinprice]\n",
    "y_pred = rf.predict(dX_hold)"
   ]
  },
  {
   "cell_type": "code",
   "execution_count": 91,
   "metadata": {},
   "outputs": [
    {
     "data": {
      "text/plain": [
       "(2646, 32)"
      ]
     },
     "execution_count": 91,
     "metadata": {},
     "output_type": "execute_result"
    }
   ],
   "source": [
    "dX_hold.shape"
   ]
  },
  {
   "cell_type": "code",
   "execution_count": 92,
   "metadata": {},
   "outputs": [
    {
     "data": {
      "text/plain": [
       "2646"
      ]
     },
     "execution_count": 92,
     "metadata": {},
     "output_type": "execute_result"
    }
   ],
   "source": [
    "len(y_pred)"
   ]
  },
  {
   "cell_type": "markdown",
   "metadata": {},
   "source": [
    "#### Storing the result in a file"
   ]
  },
  {
   "cell_type": "code",
   "execution_count": 93,
   "metadata": {},
   "outputs": [],
   "source": [
    "result = pd.DataFrame()\n",
    "result['mean_listing_price']=y_pred"
   ]
  },
  {
   "cell_type": "code",
   "execution_count": 94,
   "metadata": {},
   "outputs": [],
   "source": [
    "path ='C:/Users/Veena Chintala/Desktop/dogres/assessment_data_chintala.tsv'\n",
    "result.to_csv(path, sep = ',')"
   ]
  },
  {
   "cell_type": "code",
   "execution_count": 95,
   "metadata": {},
   "outputs": [
    {
     "data": {
      "text/html": [
       "<div>\n",
       "<style scoped>\n",
       "    .dataframe tbody tr th:only-of-type {\n",
       "        vertical-align: middle;\n",
       "    }\n",
       "\n",
       "    .dataframe tbody tr th {\n",
       "        vertical-align: top;\n",
       "    }\n",
       "\n",
       "    .dataframe thead th {\n",
       "        text-align: right;\n",
       "    }\n",
       "</style>\n",
       "<table border=\"1\" class=\"dataframe\">\n",
       "  <thead>\n",
       "    <tr style=\"text-align: right;\">\n",
       "      <th></th>\n",
       "      <th>Unnamed: 0</th>\n",
       "      <th>mean_listing_price</th>\n",
       "    </tr>\n",
       "  </thead>\n",
       "  <tbody>\n",
       "    <tr>\n",
       "      <th>0</th>\n",
       "      <td>0</td>\n",
       "      <td>46.577950</td>\n",
       "    </tr>\n",
       "    <tr>\n",
       "      <th>1</th>\n",
       "      <td>1</td>\n",
       "      <td>46.577950</td>\n",
       "    </tr>\n",
       "    <tr>\n",
       "      <th>2</th>\n",
       "      <td>2</td>\n",
       "      <td>47.320000</td>\n",
       "    </tr>\n",
       "    <tr>\n",
       "      <th>3</th>\n",
       "      <td>3</td>\n",
       "      <td>268.106525</td>\n",
       "    </tr>\n",
       "    <tr>\n",
       "      <th>4</th>\n",
       "      <td>4</td>\n",
       "      <td>42.760000</td>\n",
       "    </tr>\n",
       "  </tbody>\n",
       "</table>\n",
       "</div>"
      ],
      "text/plain": [
       "   Unnamed: 0  mean_listing_price\n",
       "0           0           46.577950\n",
       "1           1           46.577950\n",
       "2           2           47.320000\n",
       "3           3          268.106525\n",
       "4           4           42.760000"
      ]
     },
     "execution_count": 95,
     "metadata": {},
     "output_type": "execute_result"
    }
   ],
   "source": [
    "test = pd.read_table('assessment_data_chintala.tsv', sep = ',')\n",
    "test.head()"
   ]
  },
  {
   "cell_type": "code",
   "execution_count": null,
   "metadata": {},
   "outputs": [],
   "source": []
  },
  {
   "cell_type": "markdown",
   "metadata": {},
   "source": [
    "#### Creating a common list for training and holdout set"
   ]
  },
  {
   "cell_type": "code",
   "execution_count": 114,
   "metadata": {
    "collapsed": true
   },
   "outputs": [
    {
     "data": {
      "text/plain": [
       "['event_min',\n",
       " 'performer',\n",
       " 'listing_week',\n",
       " 'event_week',\n",
       " 'taxonomy_Classical Orchestral',\n",
       " 'taxonomy_MLB Baseball',\n",
       " 'taxonomy_Minor League Baseball',\n",
       " 'performer_1_Los Angeles Dodgers',\n",
       " 'performer_1_Los Angeles Philharmonic',\n",
       " 'performer_1_New Orleans Baby Cakes',\n",
       " 'performer_1_Oklahoma City Dodgers',\n",
       " 'performer_1_Round Rock Express',\n",
       " 'performer_2_Arizona Diamondbacks',\n",
       " 'performer_2_Chicago White Sox',\n",
       " 'performer_2_Colorado Rockies',\n",
       " 'performer_2_Gil Shaham',\n",
       " 'performer_2_Gustavo Dudamel',\n",
       " 'performer_2_Hilary Hahn',\n",
       " 'performer_2_Israel Philharmonic Orchestra',\n",
       " 'performer_2_Los Angeles Philharmonic',\n",
       " 'performer_2_Milwaukee Brewers',\n",
       " 'performer_2_Oklahoma City Dodgers',\n",
       " 'performer_2_Omaha Storm Chasers',\n",
       " 'performer_2_Riccardo Muti',\n",
       " 'performer_2_San Diego Padres',\n",
       " 'performer_2_San Francisco Giants',\n",
       " 'performer_2_Tacoma Rainiers',\n",
       " 'performer_3_Chicago Symphony Orchestra',\n",
       " 'performer_3_Gustavo Dudamel',\n",
       " 'venue_name_Chickasaw Bricktown Ballpark',\n",
       " 'venue_name_Dodger Stadium',\n",
       " 'venue_name_Walt Disney Concert Hall']"
      ]
     },
     "execution_count": 114,
     "metadata": {},
     "output_type": "execute_result"
    }
   ],
   "source": [
    "lst_ticket =[]\n",
    "dff = pd.DataFrame()\n",
    "for i in range(len(feature_ticketlisted)):\n",
    "    if X_hold.columns.contains(feature_ticketlisted[i]):\n",
    "        lst_ticket.append(feature_ticketlisted[i])\n",
    "        \n",
    "lst_ticket"
   ]
  },
  {
   "cell_type": "markdown",
   "metadata": {},
   "source": [
    "####  Predicting Tickets Listed using Random Forest Regressor"
   ]
  },
  {
   "cell_type": "code",
   "execution_count": null,
   "metadata": {},
   "outputs": [],
   "source": []
  },
  {
   "cell_type": "code",
   "execution_count": 115,
   "metadata": {},
   "outputs": [],
   "source": [
    "train_x_ticket=X[lst_ticket]\n",
    "train_y_ticket=data['tickets_listed']\n",
    "X_train, X_test, y_train, y_test  = train_test_split(train_x_ticket, train_y_ticket, test_size = 0.2, random_state = 0)"
   ]
  },
  {
   "cell_type": "code",
   "execution_count": 116,
   "metadata": {},
   "outputs": [
    {
     "data": {
      "text/plain": [
       "((3372, 32), (843, 32), (3372,), (843,))"
      ]
     },
     "execution_count": 116,
     "metadata": {},
     "output_type": "execute_result"
    }
   ],
   "source": [
    "X_train.shape, X_test.shape, y_train.shape, y_test.shape"
   ]
  },
  {
   "cell_type": "code",
   "execution_count": 117,
   "metadata": {},
   "outputs": [
    {
     "data": {
      "text/plain": [
       "RandomForestRegressor(bootstrap=True, criterion='mae', max_depth=None,\n",
       "           max_features='auto', max_leaf_nodes=None,\n",
       "           min_impurity_decrease=0.0, min_impurity_split=None,\n",
       "           min_samples_leaf=3, min_samples_split=3,\n",
       "           min_weight_fraction_leaf=0.0, n_estimators=300, n_jobs=-1,\n",
       "           oob_score=False, random_state=3, verbose=0, warm_start=False)"
      ]
     },
     "execution_count": 117,
     "metadata": {},
     "output_type": "execute_result"
    }
   ],
   "source": [
    "rf_ticket = RandomForestRegressor(n_estimators=300, \n",
    "                               min_samples_leaf =3,\n",
    "                               min_samples_split =3,\n",
    "                               criterion='mae', \n",
    "                               random_state=3, \n",
    "                               n_jobs=-1)\n",
    "rf_ticket.fit(X_train, y_train)"
   ]
  },
  {
   "cell_type": "code",
   "execution_count": 118,
   "metadata": {},
   "outputs": [
    {
     "name": "stdout",
     "output_type": "stream",
     "text": [
      "Train r2 score for tickets listed:  0.9729297032524173\n",
      "Test r2 score for tickets listed:  0.9736201248815749\n",
      "Random Forest Regression RMSE for tickets listed: 775.2058\n",
      "Random Forest Regression MAE for tickets listed: 397.3105\n"
     ]
    }
   ],
   "source": [
    "# Calculating R2 value\n",
    "y_pred_ticket = rf_ticket.predict(X_test)\n",
    "y_train_pred_ticket = rf_ticket.predict(X_train)\n",
    "print('Train r2 score for tickets listed: ', r2_score(y_train_pred_ticket, y_train))\n",
    "print('Test r2 score for tickets listed: ', r2_score(y_pred_ticket, y_test))\n",
    "\n",
    "# Calculate root mean squared error\n",
    "rf_mse_ticket = mean_squared_error(y_pred_ticket, y_test)\n",
    "rf_rmse = np.sqrt(rf_mse_ticket)\n",
    "print('Random Forest Regression RMSE for tickets listed: %.4f' % rf_rmse)\n",
    "\n",
    "# Calculate mean_absolute_error\n",
    "rf_mae = mean_absolute_error(y_pred_ticket, y_test)\n",
    "print('Random Forest Regression MAE for tickets listed: %.4f' % rf_mae)"
   ]
  },
  {
   "cell_type": "code",
   "execution_count": 119,
   "metadata": {},
   "outputs": [
    {
     "data": {
      "text/plain": [
       "(400, 443)"
      ]
     },
     "execution_count": 119,
     "metadata": {},
     "output_type": "execute_result"
    }
   ],
   "source": [
    "less3000=[]\n",
    "great3000=[]\n",
    "y_pred_ticket = y_pred_ticket.astype(int)\n",
    "\n",
    "for i in range(len(y_pred_ticket)):\n",
    "    if (y_pred_ticket[i] < 2000):\n",
    "        less3000.append(y_pred_ticket[i])\n",
    "    if (y_pred_ticket[i] > 2000):\n",
    "        great3000.append(y_pred_ticket[i])     \n",
    "       \n",
    "    \n",
    "len(less3000), len(great3000)        \n"
   ]
  },
  {
   "cell_type": "code",
   "execution_count": 120,
   "metadata": {},
   "outputs": [
    {
     "data": {
      "text/plain": [
       "(400, 443)"
      ]
     },
     "execution_count": 120,
     "metadata": {},
     "output_type": "execute_result"
    }
   ],
   "source": [
    "lesstest3000=[]\n",
    "greattest3000=[]\n",
    "y_test = y_test.values.astype(int)\n",
    "\n",
    "for i in range(len(y_test)):\n",
    "    if (y_test[i] < 2000):\n",
    "        lesstest3000.append(y_test[i])\n",
    "    if (y_test[i]>2000):\n",
    "        greattest3000.append(y_test[i])\n",
    "    \n",
    "       \n",
    "len(lesstest3000), len(greattest3000)"
   ]
  },
  {
   "cell_type": "code",
   "execution_count": 121,
   "metadata": {},
   "outputs": [
    {
     "name": "stdout",
     "output_type": "stream",
     "text": [
      "Random Forest Regression MAE for tickets listed less than 2000: 10.5925\n",
      "Random Forest Regression MAE for tickets listed greater than 2000: 746.5598\n"
     ]
    }
   ],
   "source": [
    "rf_mae = mean_absolute_error(less3000, lesstest3000)\n",
    "rf_mae_testgre = mean_absolute_error(great3000, greattest3000)\n",
    "\n",
    "print('Random Forest Regression MAE for tickets listed less than 2000: %.4f' % rf_mae)\n",
    "print('Random Forest Regression MAE for tickets listed greater than 2000: %.4f' % rf_mae_testgre)"
   ]
  },
  {
   "cell_type": "markdown",
   "metadata": {},
   "source": [
    "- Mean absolute error for samples less than 2000 is 10.59\n",
    "- Mean absolute error for samples greater tah 2000 is 746.55"
   ]
  },
  {
   "cell_type": "code",
   "execution_count": 122,
   "metadata": {},
   "outputs": [
    {
     "data": {
      "text/plain": [
       "400"
      ]
     },
     "execution_count": 122,
     "metadata": {},
     "output_type": "execute_result"
    }
   ],
   "source": [
    "mpae2000=[]\n",
    "for i in range(len(less3000)):\n",
    "    mpae2000.append(abs(((lesstest3000[i] - less3000[i]) / (lesstest3000[i])) * 100))\n",
    "    \n",
    "len(mpae2000)"
   ]
  },
  {
   "cell_type": "code",
   "execution_count": 123,
   "metadata": {},
   "outputs": [
    {
     "data": {
      "text/plain": [
       "443"
      ]
     },
     "execution_count": 123,
     "metadata": {},
     "output_type": "execute_result"
    }
   ],
   "source": [
    "mpae7000=[]\n",
    "for i in range(len(great3000)):\n",
    "    mpae7000.append(abs(((greattest3000[i] - great3000[i]) / (greattest3000[i])) * 100))\n",
    "    \n",
    "len(mpae7000)"
   ]
  },
  {
   "cell_type": "code",
   "execution_count": 124,
   "metadata": {},
   "outputs": [
    {
     "name": "stdout",
     "output_type": "stream",
     "text": [
      "Mean Percent Absolute Error for listings less than 2000: 36.7791\n",
      "Mean Percent Absolute Error for listings greater than 2000: 9.3951\n"
     ]
    }
   ],
   "source": [
    "print('Mean Percent Absolute Error for listings less than 2000: %.4f' % (sum(mpae2000)/len(mpae2000)))\n",
    "print('Mean Percent Absolute Error for listings greater than 2000: %.4f' % (sum(mpae7000)/len(mpae7000)))"
   ]
  },
  {
   "cell_type": "code",
   "execution_count": null,
   "metadata": {},
   "outputs": [],
   "source": []
  },
  {
   "cell_type": "markdown",
   "metadata": {},
   "source": [
    "#### Predicting tickets listed"
   ]
  },
  {
   "cell_type": "code",
   "execution_count": 125,
   "metadata": {},
   "outputs": [],
   "source": [
    "dX_hold = X_hold[lst_meanlistinprice]\n",
    "y_pred_ticket = rf_ticket.predict(dX_hold)"
   ]
  },
  {
   "cell_type": "code",
   "execution_count": 126,
   "metadata": {},
   "outputs": [
    {
     "data": {
      "text/plain": [
       "2646"
      ]
     },
     "execution_count": 126,
     "metadata": {},
     "output_type": "execute_result"
    }
   ],
   "source": [
    "len(y_pred)"
   ]
  },
  {
   "cell_type": "markdown",
   "metadata": {},
   "source": [
    "- 2646 tickts are predicted."
   ]
  },
  {
   "cell_type": "markdown",
   "metadata": {},
   "source": [
    "#### Storing the result in a file"
   ]
  },
  {
   "cell_type": "code",
   "execution_count": 127,
   "metadata": {},
   "outputs": [
    {
     "data": {
      "text/html": [
       "<div>\n",
       "<style scoped>\n",
       "    .dataframe tbody tr th:only-of-type {\n",
       "        vertical-align: middle;\n",
       "    }\n",
       "\n",
       "    .dataframe tbody tr th {\n",
       "        vertical-align: top;\n",
       "    }\n",
       "\n",
       "    .dataframe thead th {\n",
       "        text-align: right;\n",
       "    }\n",
       "</style>\n",
       "<table border=\"1\" class=\"dataframe\">\n",
       "  <thead>\n",
       "    <tr style=\"text-align: right;\">\n",
       "      <th></th>\n",
       "      <th>mean_listing_price</th>\n",
       "      <th>tickets_listed</th>\n",
       "    </tr>\n",
       "  </thead>\n",
       "  <tbody>\n",
       "    <tr>\n",
       "      <th>0</th>\n",
       "      <td>46.577950</td>\n",
       "      <td>7777.366667</td>\n",
       "    </tr>\n",
       "    <tr>\n",
       "      <th>1</th>\n",
       "      <td>46.577950</td>\n",
       "      <td>7777.366667</td>\n",
       "    </tr>\n",
       "    <tr>\n",
       "      <th>2</th>\n",
       "      <td>47.320000</td>\n",
       "      <td>9319.655000</td>\n",
       "    </tr>\n",
       "    <tr>\n",
       "      <th>3</th>\n",
       "      <td>268.106525</td>\n",
       "      <td>31.478333</td>\n",
       "    </tr>\n",
       "    <tr>\n",
       "      <th>4</th>\n",
       "      <td>42.760000</td>\n",
       "      <td>8593.655000</td>\n",
       "    </tr>\n",
       "  </tbody>\n",
       "</table>\n",
       "</div>"
      ],
      "text/plain": [
       "   mean_listing_price  tickets_listed\n",
       "0           46.577950     7777.366667\n",
       "1           46.577950     7777.366667\n",
       "2           47.320000     9319.655000\n",
       "3          268.106525       31.478333\n",
       "4           42.760000     8593.655000"
      ]
     },
     "execution_count": 127,
     "metadata": {},
     "output_type": "execute_result"
    }
   ],
   "source": [
    "result['tickets_listed']=y_pred_ticket\n",
    "result.head()"
   ]
  },
  {
   "cell_type": "code",
   "execution_count": 128,
   "metadata": {},
   "outputs": [],
   "source": [
    "path ='C:/Users/Veena Chintala/Desktop/dogres/assessment_data_chintala.tsv'\n",
    "result.to_csv(path, sep = ',')"
   ]
  },
  {
   "cell_type": "code",
   "execution_count": 129,
   "metadata": {},
   "outputs": [
    {
     "data": {
      "text/html": [
       "<div>\n",
       "<style scoped>\n",
       "    .dataframe tbody tr th:only-of-type {\n",
       "        vertical-align: middle;\n",
       "    }\n",
       "\n",
       "    .dataframe tbody tr th {\n",
       "        vertical-align: top;\n",
       "    }\n",
       "\n",
       "    .dataframe thead th {\n",
       "        text-align: right;\n",
       "    }\n",
       "</style>\n",
       "<table border=\"1\" class=\"dataframe\">\n",
       "  <thead>\n",
       "    <tr style=\"text-align: right;\">\n",
       "      <th></th>\n",
       "      <th>Unnamed: 0</th>\n",
       "      <th>mean_listing_price</th>\n",
       "      <th>tickets_listed</th>\n",
       "    </tr>\n",
       "  </thead>\n",
       "  <tbody>\n",
       "    <tr>\n",
       "      <th>0</th>\n",
       "      <td>0</td>\n",
       "      <td>46.577950</td>\n",
       "      <td>7777.366667</td>\n",
       "    </tr>\n",
       "    <tr>\n",
       "      <th>1</th>\n",
       "      <td>1</td>\n",
       "      <td>46.577950</td>\n",
       "      <td>7777.366667</td>\n",
       "    </tr>\n",
       "    <tr>\n",
       "      <th>2</th>\n",
       "      <td>2</td>\n",
       "      <td>47.320000</td>\n",
       "      <td>9319.655000</td>\n",
       "    </tr>\n",
       "    <tr>\n",
       "      <th>3</th>\n",
       "      <td>3</td>\n",
       "      <td>268.106525</td>\n",
       "      <td>31.478333</td>\n",
       "    </tr>\n",
       "    <tr>\n",
       "      <th>4</th>\n",
       "      <td>4</td>\n",
       "      <td>42.760000</td>\n",
       "      <td>8593.655000</td>\n",
       "    </tr>\n",
       "  </tbody>\n",
       "</table>\n",
       "</div>"
      ],
      "text/plain": [
       "   Unnamed: 0  mean_listing_price  tickets_listed\n",
       "0           0           46.577950     7777.366667\n",
       "1           1           46.577950     7777.366667\n",
       "2           2           47.320000     9319.655000\n",
       "3           3          268.106525       31.478333\n",
       "4           4           42.760000     8593.655000"
      ]
     },
     "execution_count": 129,
     "metadata": {},
     "output_type": "execute_result"
    }
   ],
   "source": [
    "test = pd.read_table('assessment_data_chintala.tsv', sep = ',')\n",
    "test.head()"
   ]
  },
  {
   "cell_type": "markdown",
   "metadata": {},
   "source": [
    "<a id='conclusion'></a>\n",
    "## Conclusion"
   ]
  },
  {
   "cell_type": "markdown",
   "metadata": {},
   "source": [
    "##### This model predicts the price with an error of:\n",
    "- 22% for the price less than 150 dollars.\n",
    "- 16% error for the price between 150 dollars and 700 dollars.\n",
    "- 8% error for the price greater than 700 dollars.\n",
    "\n",
    "##### This model predicts the tickets listed for the day with an error of:\n",
    "\n",
    "- 36% for all the ticket listings less than 2000.\n",
    "- 9.3% for all the ticket listings greater than 2000.\n",
    "\n"
   ]
  },
  {
   "cell_type": "code",
   "execution_count": null,
   "metadata": {},
   "outputs": [],
   "source": []
  }
 ],
 "metadata": {
  "kernelspec": {
   "display_name": "Python 3",
   "language": "python",
   "name": "python3"
  },
  "language_info": {
   "codemirror_mode": {
    "name": "ipython",
    "version": 3
   },
   "file_extension": ".py",
   "mimetype": "text/x-python",
   "name": "python",
   "nbconvert_exporter": "python",
   "pygments_lexer": "ipython3",
   "version": "3.7.1"
  }
 },
 "nbformat": 4,
 "nbformat_minor": 2
}
